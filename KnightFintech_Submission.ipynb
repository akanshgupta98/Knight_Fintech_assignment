{
  "nbformat": 4,
  "nbformat_minor": 0,
  "metadata": {
    "kernelspec": {
      "display_name": "Python 3",
      "language": "python",
      "name": "python3"
    },
    "language_info": {
      "codemirror_mode": {
        "name": "ipython",
        "version": 3
      },
      "file_extension": ".py",
      "mimetype": "text/x-python",
      "name": "python",
      "nbconvert_exporter": "python",
      "pygments_lexer": "ipython3",
      "version": "3.7.4"
    },
    "colab": {
      "name": "KnightFintech_Submission.ipynb",
      "provenance": [],
      "collapsed_sections": []
    }
  },
  "cells": [
    {
      "cell_type": "markdown",
      "metadata": {
        "id": "TnI_xqU0ll3S",
        "colab_type": "text"
      },
      "source": [
        "# Importing Libraries"
      ]
    },
    {
      "cell_type": "code",
      "metadata": {
        "id": "wRBkp8YZaLaF",
        "colab_type": "code",
        "colab": {}
      },
      "source": [
        "import pandas as pd\n",
        "import numpy as np\n",
        "import nltk\n",
        "from sklearn.svm import LinearSVC\n",
        "from sklearn.model_selection import train_test_split\n",
        "from sklearn.feature_extraction.text import TfidfVectorizer\n",
        "from sklearn.metrics import classification_report,confusion_matrix\n",
        "from sklearn.naive_bayes import MultinomialNB\n",
        "from sklearn.linear_model import SGDClassifier\n",
        "from sklearn.linear_model import LogisticRegression\n",
        "import matplotlib.pyplot as plt\n",
        "import seaborn as sns\n",
        "import plotly.express as px\n",
        "from plotly.offline import iplot\n",
        "import plotly.graph_objects as go"
      ],
      "execution_count": 0,
      "outputs": []
    },
    {
      "cell_type": "markdown",
      "metadata": {
        "id": "I281ZY9YlpP5",
        "colab_type": "text"
      },
      "source": [
        "# Reading the Training Data provided."
      ]
    },
    {
      "cell_type": "code",
      "metadata": {
        "id": "1kigIcOQaLaN",
        "colab_type": "code",
        "colab": {}
      },
      "source": [
        "data_train = pd.read_csv('train.csv')"
      ],
      "execution_count": 0,
      "outputs": []
    },
    {
      "cell_type": "code",
      "metadata": {
        "id": "mc36cQ-WaLaT",
        "colab_type": "code",
        "colab": {}
      },
      "source": [
        "data_copy = data_train.copy()"
      ],
      "execution_count": 0,
      "outputs": []
    },
    {
      "cell_type": "markdown",
      "metadata": {
        "id": "BtZr7dHplw0k",
        "colab_type": "text"
      },
      "source": [
        "# Trying to draw some insights from data"
      ]
    },
    {
      "cell_type": "code",
      "metadata": {
        "id": "f5bQdp9IaLaY",
        "colab_type": "code",
        "outputId": "4801b940-dfee-46e5-8d2d-b3ff1a850f6b",
        "colab": {
          "base_uri": "https://localhost:8080/",
          "height": 297
        }
      },
      "source": [
        "data_copy.describe()"
      ],
      "execution_count": 147,
      "outputs": [
        {
          "output_type": "execute_result",
          "data": {
            "text/html": [
              "<div>\n",
              "<style scoped>\n",
              "    .dataframe tbody tr th:only-of-type {\n",
              "        vertical-align: middle;\n",
              "    }\n",
              "\n",
              "    .dataframe tbody tr th {\n",
              "        vertical-align: top;\n",
              "    }\n",
              "\n",
              "    .dataframe thead th {\n",
              "        text-align: right;\n",
              "    }\n",
              "</style>\n",
              "<table border=\"1\" class=\"dataframe\">\n",
              "  <thead>\n",
              "    <tr style=\"text-align: right;\">\n",
              "      <th></th>\n",
              "      <th>points</th>\n",
              "      <th>price</th>\n",
              "    </tr>\n",
              "  </thead>\n",
              "  <tbody>\n",
              "    <tr>\n",
              "      <th>count</th>\n",
              "      <td>82657.000000</td>\n",
              "      <td>77088.000000</td>\n",
              "    </tr>\n",
              "    <tr>\n",
              "      <th>mean</th>\n",
              "      <td>88.544564</td>\n",
              "      <td>36.922232</td>\n",
              "    </tr>\n",
              "    <tr>\n",
              "      <th>std</th>\n",
              "      <td>3.099649</td>\n",
              "      <td>43.698346</td>\n",
              "    </tr>\n",
              "    <tr>\n",
              "      <th>min</th>\n",
              "      <td>80.000000</td>\n",
              "      <td>4.000000</td>\n",
              "    </tr>\n",
              "    <tr>\n",
              "      <th>25%</th>\n",
              "      <td>86.000000</td>\n",
              "      <td>18.000000</td>\n",
              "    </tr>\n",
              "    <tr>\n",
              "      <th>50%</th>\n",
              "      <td>88.000000</td>\n",
              "      <td>27.000000</td>\n",
              "    </tr>\n",
              "    <tr>\n",
              "      <th>75%</th>\n",
              "      <td>91.000000</td>\n",
              "      <td>45.000000</td>\n",
              "    </tr>\n",
              "    <tr>\n",
              "      <th>max</th>\n",
              "      <td>100.000000</td>\n",
              "      <td>3300.000000</td>\n",
              "    </tr>\n",
              "  </tbody>\n",
              "</table>\n",
              "</div>"
            ],
            "text/plain": [
              "             points         price\n",
              "count  82657.000000  77088.000000\n",
              "mean      88.544564     36.922232\n",
              "std        3.099649     43.698346\n",
              "min       80.000000      4.000000\n",
              "25%       86.000000     18.000000\n",
              "50%       88.000000     27.000000\n",
              "75%       91.000000     45.000000\n",
              "max      100.000000   3300.000000"
            ]
          },
          "metadata": {
            "tags": []
          },
          "execution_count": 147
        }
      ]
    },
    {
      "cell_type": "code",
      "metadata": {
        "id": "BfBrwpiraLad",
        "colab_type": "code",
        "outputId": "8a2afb0a-6da5-4ac0-ceb6-8ff4dc3ff0c4",
        "colab": {
          "base_uri": "https://localhost:8080/",
          "height": 357
        }
      },
      "source": [
        "print(data_copy.info())"
      ],
      "execution_count": 148,
      "outputs": [
        {
          "output_type": "stream",
          "text": [
            "<class 'pandas.core.frame.DataFrame'>\n",
            "RangeIndex: 82657 entries, 0 to 82656\n",
            "Data columns (total 12 columns):\n",
            " #   Column              Non-Null Count  Dtype  \n",
            "---  ------              --------------  -----  \n",
            " 0   user_name           63264 non-null  object \n",
            " 1   country             82622 non-null  object \n",
            " 2   review_title        82657 non-null  object \n",
            " 3   review_description  82657 non-null  object \n",
            " 4   designation         59010 non-null  object \n",
            " 5   points              82657 non-null  int64  \n",
            " 6   price               77088 non-null  float64\n",
            " 7   province            82622 non-null  object \n",
            " 8   region_1            69903 non-null  object \n",
            " 9   region_2            35949 non-null  object \n",
            " 10  winery              82657 non-null  object \n",
            " 11  variety             82657 non-null  object \n",
            "dtypes: float64(1), int64(1), object(10)\n",
            "memory usage: 7.6+ MB\n",
            "None\n"
          ],
          "name": "stdout"
        }
      ]
    },
    {
      "cell_type": "code",
      "metadata": {
        "id": "yAAGLUpTaLai",
        "colab_type": "code",
        "outputId": "2f7cbec1-c3a7-449d-e1b1-364113acfcb9",
        "colab": {
          "base_uri": "https://localhost:8080/",
          "height": 238
        }
      },
      "source": [
        "data_copy.isnull().sum()"
      ],
      "execution_count": 149,
      "outputs": [
        {
          "output_type": "execute_result",
          "data": {
            "text/plain": [
              "user_name             19393\n",
              "country                  35\n",
              "review_title              0\n",
              "review_description        0\n",
              "designation           23647\n",
              "points                    0\n",
              "price                  5569\n",
              "province                 35\n",
              "region_1              12754\n",
              "region_2              46708\n",
              "winery                    0\n",
              "variety                   0\n",
              "dtype: int64"
            ]
          },
          "metadata": {
            "tags": []
          },
          "execution_count": 149
        }
      ]
    },
    {
      "cell_type": "code",
      "metadata": {
        "id": "A9I-MA5_aLan",
        "colab_type": "code",
        "outputId": "ab8951f6-f42a-42ec-e8da-2ac549623609",
        "colab": {
          "base_uri": "https://localhost:8080/",
          "height": 34
        }
      },
      "source": [
        "data_copy.shape"
      ],
      "execution_count": 150,
      "outputs": [
        {
          "output_type": "execute_result",
          "data": {
            "text/plain": [
              "(82657, 12)"
            ]
          },
          "metadata": {
            "tags": []
          },
          "execution_count": 150
        }
      ]
    },
    {
      "cell_type": "code",
      "metadata": {
        "id": "9-VIcCzgaLas",
        "colab_type": "code",
        "outputId": "0dfc64f0-4883-4c24-e5b7-2cc6d4145885",
        "colab": {
          "base_uri": "https://localhost:8080/",
          "height": 34
        }
      },
      "source": [
        "data_copy['variety'].nunique()"
      ],
      "execution_count": 151,
      "outputs": [
        {
          "output_type": "execute_result",
          "data": {
            "text/plain": [
              "28"
            ]
          },
          "metadata": {
            "tags": []
          },
          "execution_count": 151
        }
      ]
    },
    {
      "cell_type": "code",
      "metadata": {
        "id": "xQJ9HdTkaLay",
        "colab_type": "code",
        "outputId": "1d320330-65d8-4ce9-a875-7d646c9a61c2",
        "colab": {
          "base_uri": "https://localhost:8080/",
          "height": 34
        }
      },
      "source": [
        "print(np.max(data_copy['points']),np.min(data_copy['points']))"
      ],
      "execution_count": 152,
      "outputs": [
        {
          "output_type": "stream",
          "text": [
            "100 80\n"
          ],
          "name": "stdout"
        }
      ]
    },
    {
      "cell_type": "code",
      "metadata": {
        "id": "UebtvzaRaLa2",
        "colab_type": "code",
        "outputId": "2f78500a-df6d-47da-b036-e69bf02b875d",
        "colab": {
          "base_uri": "https://localhost:8080/",
          "height": 238
        }
      },
      "source": [
        "data_copy.isnull().sum()\n"
      ],
      "execution_count": 153,
      "outputs": [
        {
          "output_type": "execute_result",
          "data": {
            "text/plain": [
              "user_name             19393\n",
              "country                  35\n",
              "review_title              0\n",
              "review_description        0\n",
              "designation           23647\n",
              "points                    0\n",
              "price                  5569\n",
              "province                 35\n",
              "region_1              12754\n",
              "region_2              46708\n",
              "winery                    0\n",
              "variety                   0\n",
              "dtype: int64"
            ]
          },
          "metadata": {
            "tags": []
          },
          "execution_count": 153
        }
      ]
    },
    {
      "cell_type": "markdown",
      "metadata": {
        "id": "oiMVfsM4l4yH",
        "colab_type": "text"
      },
      "source": [
        "# Fixing the Nan values "
      ]
    },
    {
      "cell_type": "code",
      "metadata": {
        "id": "WAbX4hW7aLa6",
        "colab_type": "code",
        "colab": {}
      },
      "source": [
        "data_copy['price'].fillna(data_copy['price'].mean(),inplace=True)\n",
        "data_copy['country'].fillna('Unknown',inplace=True)\n",
        "data_copy.drop(['user_name'],axis=1,inplace=True)\n",
        "data_copy['designation'].fillna('Unknown',inplace=True)\n",
        "data_copy['province'].fillna('Unknown',inplace=True)\n",
        "data_copy['region_1'].fillna('Unknown',inplace=True)\n",
        "data_copy['region_2'].fillna('Unknown',inplace=True)"
      ],
      "execution_count": 0,
      "outputs": []
    },
    {
      "cell_type": "code",
      "metadata": {
        "id": "cK1-oEJUaLbC",
        "colab_type": "code",
        "outputId": "a06b5eeb-d689-4d7d-951c-97c12feb0bcc",
        "colab": {
          "base_uri": "https://localhost:8080/",
          "height": 221
        }
      },
      "source": [
        "data_copy.isnull().sum()\n"
      ],
      "execution_count": 155,
      "outputs": [
        {
          "output_type": "execute_result",
          "data": {
            "text/plain": [
              "country               0\n",
              "review_title          0\n",
              "review_description    0\n",
              "designation           0\n",
              "points                0\n",
              "price                 0\n",
              "province              0\n",
              "region_1              0\n",
              "region_2              0\n",
              "winery                0\n",
              "variety               0\n",
              "dtype: int64"
            ]
          },
          "metadata": {
            "tags": []
          },
          "execution_count": 155
        }
      ]
    },
    {
      "cell_type": "markdown",
      "metadata": {
        "id": "q4XYLWq1l83d",
        "colab_type": "text"
      },
      "source": [
        "# Visualizing the data"
      ]
    },
    {
      "cell_type": "code",
      "metadata": {
        "id": "yoLGKrrrkr-Q",
        "colab_type": "code",
        "outputId": "c2a99bda-d223-407b-c729-fcb088b72caa",
        "colab": {
          "base_uri": "https://localhost:8080/",
          "height": 448
        }
      },
      "source": [
        "plt.figure(figsize=(16,7))\n",
        "sns.set(style=\"darkgrid\")\n",
        "sns.barplot(x=data_copy.country.value_counts()[:10].index, y=data_copy.country.value_counts()[:10].values)\n",
        "plt.xlabel(\"Countries\")\n",
        "plt.ylabel(\"Number of Wine\")\n",
        "plt.show()"
      ],
      "execution_count": 156,
      "outputs": [
        {
          "output_type": "display_data",
          "data": {
            "image/png": "[encoded data removed]",
            "text/plain": [
              "<Figure size 1152x504 with 1 Axes>"
            ]
          },
          "metadata": {
            "tags": []
          }
        }
      ]
    },
    {
      "cell_type": "code",
      "metadata": {
        "id": "7joARJThkr2Y",
        "colab_type": "code",
        "outputId": "2c3e5c74-cc7c-430a-aac8-7990419481ba",
        "colab": {
          "base_uri": "https://localhost:8080/",
          "height": 464
        }
      },
      "source": [
        "plt.figure(figsize=(16,7))\n",
        "g = sns.barplot(x=data_copy.groupby(\"country\").mean().sort_values(by=\"points\",ascending=False).points.index[:10], y=data_copy.groupby(\"country\").mean().sort_values(by=\"points\",ascending=False).points.values[:10], palette=\"gist_ncar\")\n",
        "plt.xlabel(\"Countries\")\n",
        "plt.ylabel(\"Average Points\")\n",
        "plt.title(\"Average Points Top 10\")\n",
        "ax=g\n",
        "for p in ax.patches:\n",
        "    ax.annotate(\"%.2f\" % p.get_height(), (p.get_x() + p.get_width() / 2., p.get_height()),\n",
        "                 ha='center', va='center', fontsize=11, color='gray', xytext=(0, 20),\n",
        "                 textcoords='offset points')\n",
        "plt.show()"
      ],
      "execution_count": 157,
      "outputs": [
        {
          "output_type": "display_data",
          "data": {
            "image/png": "[encoded data removed]",
            "text/plain": [
              "<Figure size 1152x504 with 1 Axes>"
            ]
          },
          "metadata": {
            "tags": []
          }
        }
      ]
    },
    {
      "cell_type": "code",
      "metadata": {
        "id": "LBmDWiHhkrt8",
        "colab_type": "code",
        "outputId": "7929a2b1-d324-409c-be66-46366f09035e",
        "colab": {
          "base_uri": "https://localhost:8080/",
          "height": 464
        }
      },
      "source": [
        "plt.figure(figsize=(16,7))\n",
        "g = sns.barplot(x=data_copy.groupby(\"country\").mean().sort_values(by=\"price\",ascending=False).price.index[:10], y=data_copy.groupby(\"country\").mean().sort_values(by=\"price\",ascending=False).price.values[:10], palette=\"Blues_r\")\n",
        "plt.xlabel(\"Countries\")\n",
        "plt.ylabel(\"Average Price (US Dollar)\")\n",
        "plt.title(\"Average Price Top 10\")\n",
        "ax=g\n",
        "for p in ax.patches:\n",
        "    ax.annotate(\"%.2f\" % p.get_height(), (p.get_x() + p.get_width() / 2., p.get_height()),\n",
        "                 ha='center', va='center', fontsize=11, color='gray', xytext=(0, 20),\n",
        "                 textcoords='offset points')\n",
        "plt.show()"
      ],
      "execution_count": 158,
      "outputs": [
        {
          "output_type": "display_data",
          "data": {
            "image/png": "[encoded data removed]",
            "text/plain": [
              "<Figure size 1152x504 with 1 Axes>"
            ]
          },
          "metadata": {
            "tags": []
          }
        }
      ]
    },
    {
      "cell_type": "code",
      "metadata": {
        "id": "T9odQ0B_krjz",
        "colab_type": "code",
        "colab": {
          "base_uri": "https://localhost:8080/",
          "height": 542
        },
        "outputId": "86f89b5b-cce0-4fd6-b1ea-7cadf09cf11a"
      },
      "source": [
        "top20Points = data_copy.sort_values(by=\"points\", ascending=False).head(20)\n",
        "labels = top20Points.country.value_counts().index\n",
        "values = top20Points.country.value_counts().values\n",
        "trace = go.Pie(labels=labels, values=values)\n",
        "iplot([trace])"
      ],
      "execution_count": 212,
      "outputs": [
        {
          "output_type": "display_data",
          "data": {
            "text/html": [
              "<html>\n",
              "<head><meta charset=\"utf-8\" /></head>\n",
              "<body>\n",
              "    <div>\n",
              "            <script src=\"https://cdnjs.cloudflare.com/ajax/libs/mathjax/2.7.5/MathJax.js?config=TeX-AMS-MML_SVG\"></script><script type=\"text/javascript\">if (window.MathJax) {MathJax.Hub.Config({SVG: {font: \"STIX-Web\"}});}</script>\n",
              "                <script type=\"text/javascript\">window.PlotlyConfig = {MathJaxConfig: 'local'};</script>\n",
              "        <script src=\"https://cdn.plot.ly/plotly-latest.min.js\"></script>    \n",
              "            <div id=\"11849e1d-4119-4e5a-9cb4-ce0d7e08c3af\" class=\"plotly-graph-div\" style=\"height:525px; width:100%;\"></div>\n",
              "            <script type=\"text/javascript\">\n",
              "                \n",
              "                    window.PLOTLYENV=window.PLOTLYENV || {};\n",
              "                    \n",
              "                if (document.getElementById(\"11849e1d-4119-4e5a-9cb4-ce0d7e08c3af\")) {\n",
              "                    Plotly.newPlot(\n",
              "                        '11849e1d-4119-4e5a-9cb4-ce0d7e08c3af',\n",
              "                        [{\"labels\": [\"France\", \"US\", \"Italy\", \"Portugal\"], \"type\": \"pie\", \"values\": [10, 5, 4, 1]}],\n",
              "                        {\"template\": {\"data\": {\"bar\": [{\"error_x\": {\"color\": \"#2a3f5f\"}, \"error_y\": {\"color\": \"#2a3f5f\"}, \"marker\": {\"line\": {\"color\": \"#E5ECF6\", \"width\": 0.5}}, \"type\": \"bar\"}], \"barpolar\": [{\"marker\": {\"line\": {\"color\": \"#E5ECF6\", \"width\": 0.5}}, \"type\": \"barpolar\"}], \"carpet\": [{\"aaxis\": {\"endlinecolor\": \"#2a3f5f\", \"gridcolor\": \"white\", \"linecolor\": \"white\", \"minorgridcolor\": \"white\", \"startlinecolor\": \"#2a3f5f\"}, \"baxis\": {\"endlinecolor\": \"#2a3f5f\", \"gridcolor\": \"white\", \"linecolor\": \"white\", \"minorgridcolor\": \"white\", \"startlinecolor\": \"#2a3f5f\"}, \"type\": \"carpet\"}], \"choropleth\": [{\"colorbar\": {\"outlinewidth\": 0, \"ticks\": \"\"}, \"type\": \"choropleth\"}], \"contour\": [{\"colorbar\": {\"outlinewidth\": 0, \"ticks\": \"\"}, \"colorscale\": [[0.0, \"#0d0887\"], [0.1111111111111111, \"#46039f\"], [0.2222222222222222, \"#7201a8\"], [0.3333333333333333, \"#9c179e\"], [0.4444444444444444, \"#bd3786\"], [0.5555555555555556, \"#d8576b\"], [0.6666666666666666, \"#ed7953\"], [0.7777777777777778, \"#fb9f3a\"], [0.8888888888888888, \"#fdca26\"], [1.0, \"#f0f921\"]], \"type\": \"contour\"}], \"contourcarpet\": [{\"colorbar\": {\"outlinewidth\": 0, \"ticks\": \"\"}, \"type\": \"contourcarpet\"}], \"heatmap\": [{\"colorbar\": {\"outlinewidth\": 0, \"ticks\": \"\"}, \"colorscale\": [[0.0, \"#0d0887\"], [0.1111111111111111, \"#46039f\"], [0.2222222222222222, \"#7201a8\"], [0.3333333333333333, \"#9c179e\"], [0.4444444444444444, \"#bd3786\"], [0.5555555555555556, \"#d8576b\"], [0.6666666666666666, \"#ed7953\"], [0.7777777777777778, \"#fb9f3a\"], [0.8888888888888888, \"#fdca26\"], [1.0, \"#f0f921\"]], \"type\": \"heatmap\"}], \"heatmapgl\": [{\"colorbar\": {\"outlinewidth\": 0, \"ticks\": \"\"}, \"colorscale\": [[0.0, \"#0d0887\"], [0.1111111111111111, \"#46039f\"], [0.2222222222222222, \"#7201a8\"], [0.3333333333333333, \"#9c179e\"], [0.4444444444444444, \"#bd3786\"], [0.5555555555555556, \"#d8576b\"], [0.6666666666666666, \"#ed7953\"], [0.7777777777777778, \"#fb9f3a\"], [0.8888888888888888, \"#fdca26\"], [1.0, \"#f0f921\"]], \"type\": \"heatmapgl\"}], \"histogram\": [{\"marker\": {\"colorbar\": {\"outlinewidth\": 0, \"ticks\": \"\"}}, \"type\": \"histogram\"}], \"histogram2d\": [{\"colorbar\": {\"outlinewidth\": 0, \"ticks\": \"\"}, \"colorscale\": [[0.0, \"#0d0887\"], [0.1111111111111111, \"#46039f\"], [0.2222222222222222, \"#7201a8\"], [0.3333333333333333, \"#9c179e\"], [0.4444444444444444, \"#bd3786\"], [0.5555555555555556, \"#d8576b\"], [0.6666666666666666, \"#ed7953\"], [0.7777777777777778, \"#fb9f3a\"], [0.8888888888888888, \"#fdca26\"], [1.0, \"#f0f921\"]], \"type\": \"histogram2d\"}], \"histogram2dcontour\": [{\"colorbar\": {\"outlinewidth\": 0, \"ticks\": \"\"}, \"colorscale\": [[0.0, \"#0d0887\"], [0.1111111111111111, \"#46039f\"], [0.2222222222222222, \"#7201a8\"], [0.3333333333333333, \"#9c179e\"], [0.4444444444444444, \"#bd3786\"], [0.5555555555555556, \"#d8576b\"], [0.6666666666666666, \"#ed7953\"], [0.7777777777777778, \"#fb9f3a\"], [0.8888888888888888, \"#fdca26\"], [1.0, \"#f0f921\"]], \"type\": \"histogram2dcontour\"}], \"mesh3d\": [{\"colorbar\": {\"outlinewidth\": 0, \"ticks\": \"\"}, \"type\": \"mesh3d\"}], \"parcoords\": [{\"line\": {\"colorbar\": {\"outlinewidth\": 0, \"ticks\": \"\"}}, \"type\": \"parcoords\"}], \"pie\": [{\"automargin\": true, \"type\": \"pie\"}], \"scatter\": [{\"marker\": {\"colorbar\": {\"outlinewidth\": 0, \"ticks\": \"\"}}, \"type\": \"scatter\"}], \"scatter3d\": [{\"line\": {\"colorbar\": {\"outlinewidth\": 0, \"ticks\": \"\"}}, \"marker\": {\"colorbar\": {\"outlinewidth\": 0, \"ticks\": \"\"}}, \"type\": \"scatter3d\"}], \"scattercarpet\": [{\"marker\": {\"colorbar\": {\"outlinewidth\": 0, \"ticks\": \"\"}}, \"type\": \"scattercarpet\"}], \"scattergeo\": [{\"marker\": {\"colorbar\": {\"outlinewidth\": 0, \"ticks\": \"\"}}, \"type\": \"scattergeo\"}], \"scattergl\": [{\"marker\": {\"colorbar\": {\"outlinewidth\": 0, \"ticks\": \"\"}}, \"type\": \"scattergl\"}], \"scattermapbox\": [{\"marker\": {\"colorbar\": {\"outlinewidth\": 0, \"ticks\": \"\"}}, \"type\": \"scattermapbox\"}], \"scatterpolar\": [{\"marker\": {\"colorbar\": {\"outlinewidth\": 0, \"ticks\": \"\"}}, \"type\": \"scatterpolar\"}], \"scatterpolargl\": [{\"marker\": {\"colorbar\": {\"outlinewidth\": 0, \"ticks\": \"\"}}, \"type\": \"scatterpolargl\"}], \"scatterternary\": [{\"marker\": {\"colorbar\": {\"outlinewidth\": 0, \"ticks\": \"\"}}, \"type\": \"scatterternary\"}], \"surface\": [{\"colorbar\": {\"outlinewidth\": 0, \"ticks\": \"\"}, \"colorscale\": [[0.0, \"#0d0887\"], [0.1111111111111111, \"#46039f\"], [0.2222222222222222, \"#7201a8\"], [0.3333333333333333, \"#9c179e\"], [0.4444444444444444, \"#bd3786\"], [0.5555555555555556, \"#d8576b\"], [0.6666666666666666, \"#ed7953\"], [0.7777777777777778, \"#fb9f3a\"], [0.8888888888888888, \"#fdca26\"], [1.0, \"#f0f921\"]], \"type\": \"surface\"}], \"table\": [{\"cells\": {\"fill\": {\"color\": \"#EBF0F8\"}, \"line\": {\"color\": \"white\"}}, \"header\": {\"fill\": {\"color\": \"#C8D4E3\"}, \"line\": {\"color\": \"white\"}}, \"type\": \"table\"}]}, \"layout\": {\"annotationdefaults\": {\"arrowcolor\": \"#2a3f5f\", \"arrowhead\": 0, \"arrowwidth\": 1}, \"coloraxis\": {\"colorbar\": {\"outlinewidth\": 0, \"ticks\": \"\"}}, \"colorscale\": {\"diverging\": [[0, \"#8e0152\"], [0.1, \"#c51b7d\"], [0.2, \"#de77ae\"], [0.3, \"#f1b6da\"], [0.4, \"#fde0ef\"], [0.5, \"#f7f7f7\"], [0.6, \"#e6f5d0\"], [0.7, \"#b8e186\"], [0.8, \"#7fbc41\"], [0.9, \"#4d9221\"], [1, \"#276419\"]], \"sequential\": [[0.0, \"#0d0887\"], [0.1111111111111111, \"#46039f\"], [0.2222222222222222, \"#7201a8\"], [0.3333333333333333, \"#9c179e\"], [0.4444444444444444, \"#bd3786\"], [0.5555555555555556, \"#d8576b\"], [0.6666666666666666, \"#ed7953\"], [0.7777777777777778, \"#fb9f3a\"], [0.8888888888888888, \"#fdca26\"], [1.0, \"#f0f921\"]], \"sequentialminus\": [[0.0, \"#0d0887\"], [0.1111111111111111, \"#46039f\"], [0.2222222222222222, \"#7201a8\"], [0.3333333333333333, \"#9c179e\"], [0.4444444444444444, \"#bd3786\"], [0.5555555555555556, \"#d8576b\"], [0.6666666666666666, \"#ed7953\"], [0.7777777777777778, \"#fb9f3a\"], [0.8888888888888888, \"#fdca26\"], [1.0, \"#f0f921\"]]}, \"colorway\": [\"#636efa\", \"#EF553B\", \"#00cc96\", \"#ab63fa\", \"#FFA15A\", \"#19d3f3\", \"#FF6692\", \"#B6E880\", \"#FF97FF\", \"#FECB52\"], \"font\": {\"color\": \"#2a3f5f\"}, \"geo\": {\"bgcolor\": \"white\", \"lakecolor\": \"white\", \"landcolor\": \"#E5ECF6\", \"showlakes\": true, \"showland\": true, \"subunitcolor\": \"white\"}, \"hoverlabel\": {\"align\": \"left\"}, \"hovermode\": \"closest\", \"mapbox\": {\"style\": \"light\"}, \"paper_bgcolor\": \"white\", \"plot_bgcolor\": \"#E5ECF6\", \"polar\": {\"angularaxis\": {\"gridcolor\": \"white\", \"linecolor\": \"white\", \"ticks\": \"\"}, \"bgcolor\": \"#E5ECF6\", \"radialaxis\": {\"gridcolor\": \"white\", \"linecolor\": \"white\", \"ticks\": \"\"}}, \"scene\": {\"xaxis\": {\"backgroundcolor\": \"#E5ECF6\", \"gridcolor\": \"white\", \"gridwidth\": 2, \"linecolor\": \"white\", \"showbackground\": true, \"ticks\": \"\", \"zerolinecolor\": \"white\"}, \"yaxis\": {\"backgroundcolor\": \"#E5ECF6\", \"gridcolor\": \"white\", \"gridwidth\": 2, \"linecolor\": \"white\", \"showbackground\": true, \"ticks\": \"\", \"zerolinecolor\": \"white\"}, \"zaxis\": {\"backgroundcolor\": \"#E5ECF6\", \"gridcolor\": \"white\", \"gridwidth\": 2, \"linecolor\": \"white\", \"showbackground\": true, \"ticks\": \"\", \"zerolinecolor\": \"white\"}}, \"shapedefaults\": {\"line\": {\"color\": \"#2a3f5f\"}}, \"ternary\": {\"aaxis\": {\"gridcolor\": \"white\", \"linecolor\": \"white\", \"ticks\": \"\"}, \"baxis\": {\"gridcolor\": \"white\", \"linecolor\": \"white\", \"ticks\": \"\"}, \"bgcolor\": \"#E5ECF6\", \"caxis\": {\"gridcolor\": \"white\", \"linecolor\": \"white\", \"ticks\": \"\"}}, \"title\": {\"x\": 0.05}, \"xaxis\": {\"automargin\": true, \"gridcolor\": \"white\", \"linecolor\": \"white\", \"ticks\": \"\", \"title\": {\"standoff\": 15}, \"zerolinecolor\": \"white\", \"zerolinewidth\": 2}, \"yaxis\": {\"automargin\": true, \"gridcolor\": \"white\", \"linecolor\": \"white\", \"ticks\": \"\", \"title\": {\"standoff\": 15}, \"zerolinecolor\": \"white\", \"zerolinewidth\": 2}}}},\n",
              "                        {\"responsive\": true}\n",
              "                    ).then(function(){\n",
              "                            \n",
              "var gd = document.getElementById('11849e1d-4119-4e5a-9cb4-ce0d7e08c3af');\n",
              "var x = new MutationObserver(function (mutations, observer) {{\n",
              "        var display = window.getComputedStyle(gd).display;\n",
              "        if (!display || display === 'none') {{\n",
              "            console.log([gd, 'removed!']);\n",
              "            Plotly.purge(gd);\n",
              "            observer.disconnect();\n",
              "        }}\n",
              "}});\n",
              "\n",
              "// Listen for the removal of the full notebook cells\n",
              "var notebookContainer = gd.closest('#notebook-container');\n",
              "if (notebookContainer) {{\n",
              "    x.observe(notebookContainer, {childList: true});\n",
              "}}\n",
              "\n",
              "// Listen for the clearing of the current output cell\n",
              "var outputEl = gd.closest('.output');\n",
              "if (outputEl) {{\n",
              "    x.observe(outputEl, {childList: true});\n",
              "}}\n",
              "\n",
              "                        })\n",
              "                };\n",
              "                \n",
              "            </script>\n",
              "        </div>\n",
              "</body>\n",
              "</html>"
            ]
          },
          "metadata": {
            "tags": []
          }
        }
      ]
    },
    {
      "cell_type": "code",
      "metadata": {
        "id": "tfU9Y3VJkrVJ",
        "colab_type": "code",
        "colab": {}
      },
      "source": [
        ""
      ],
      "execution_count": 0,
      "outputs": []
    },
    {
      "cell_type": "markdown",
      "metadata": {
        "id": "nhF3Gm6KmBF2",
        "colab_type": "text"
      },
      "source": [
        "# Spitting into X and Y"
      ]
    },
    {
      "cell_type": "code",
      "metadata": {
        "id": "RM0h2m6FaLbI",
        "colab_type": "code",
        "colab": {}
      },
      "source": [
        "X = data_copy['review_description']"
      ],
      "execution_count": 0,
      "outputs": []
    },
    {
      "cell_type": "code",
      "metadata": {
        "id": "83quWG_PaLbM",
        "colab_type": "code",
        "colab": {}
      },
      "source": [
        "Y = data_copy['variety']"
      ],
      "execution_count": 0,
      "outputs": []
    },
    {
      "cell_type": "code",
      "metadata": {
        "id": "9HZambaIaLbT",
        "colab_type": "code",
        "outputId": "9b840249-83d4-4d29-f4b9-fabd86535aaa",
        "colab": {
          "base_uri": "https://localhost:8080/",
          "height": 34
        }
      },
      "source": [
        "print(X.shape,Y.shape)"
      ],
      "execution_count": 161,
      "outputs": [
        {
          "output_type": "stream",
          "text": [
            "(82657,) (82657,)\n"
          ],
          "name": "stdout"
        }
      ]
    },
    {
      "cell_type": "code",
      "metadata": {
        "id": "QRXCmcT0aLbX",
        "colab_type": "code",
        "outputId": "71eae517-b14d-4ffe-ec0a-4b6327a6f80c",
        "colab": {
          "base_uri": "https://localhost:8080/",
          "height": 657
        }
      },
      "source": [
        "data_copy"
      ],
      "execution_count": 162,
      "outputs": [
        {
          "output_type": "execute_result",
          "data": {
            "text/html": [
              "<div>\n",
              "<style scoped>\n",
              "    .dataframe tbody tr th:only-of-type {\n",
              "        vertical-align: middle;\n",
              "    }\n",
              "\n",
              "    .dataframe tbody tr th {\n",
              "        vertical-align: top;\n",
              "    }\n",
              "\n",
              "    .dataframe thead th {\n",
              "        text-align: right;\n",
              "    }\n",
              "</style>\n",
              "<table border=\"1\" class=\"dataframe\">\n",
              "  <thead>\n",
              "    <tr style=\"text-align: right;\">\n",
              "      <th></th>\n",
              "      <th>country</th>\n",
              "      <th>review_title</th>\n",
              "      <th>review_description</th>\n",
              "      <th>designation</th>\n",
              "      <th>points</th>\n",
              "      <th>price</th>\n",
              "      <th>province</th>\n",
              "      <th>region_1</th>\n",
              "      <th>region_2</th>\n",
              "      <th>winery</th>\n",
              "      <th>variety</th>\n",
              "    </tr>\n",
              "  </thead>\n",
              "  <tbody>\n",
              "    <tr>\n",
              "      <th>0</th>\n",
              "      <td>Australia</td>\n",
              "      <td>Andrew Peace 2007 Peace Family Vineyard Chardo...</td>\n",
              "      <td>Classic Chardonnay aromas of apple, pear and h...</td>\n",
              "      <td>Peace Family Vineyard</td>\n",
              "      <td>83</td>\n",
              "      <td>10.0</td>\n",
              "      <td>Australia Other</td>\n",
              "      <td>South Eastern Australia</td>\n",
              "      <td>Unknown</td>\n",
              "      <td>Andrew Peace</td>\n",
              "      <td>Chardonnay</td>\n",
              "    </tr>\n",
              "    <tr>\n",
              "      <th>1</th>\n",
              "      <td>US</td>\n",
              "      <td>North by Northwest 2014 Red (Columbia Valley (...</td>\n",
              "      <td>This wine is near equal parts Syrah and Merlot...</td>\n",
              "      <td>Unknown</td>\n",
              "      <td>89</td>\n",
              "      <td>15.0</td>\n",
              "      <td>Washington</td>\n",
              "      <td>Columbia Valley (WA)</td>\n",
              "      <td>Columbia Valley</td>\n",
              "      <td>North by Northwest</td>\n",
              "      <td>Red Blend</td>\n",
              "    </tr>\n",
              "    <tr>\n",
              "      <th>2</th>\n",
              "      <td>Italy</td>\n",
              "      <td>Renato Ratti 2007 Conca  (Barolo)</td>\n",
              "      <td>Barolo Conca opens with inky dark concentratio...</td>\n",
              "      <td>Conca</td>\n",
              "      <td>94</td>\n",
              "      <td>80.0</td>\n",
              "      <td>Piedmont</td>\n",
              "      <td>Barolo</td>\n",
              "      <td>Unknown</td>\n",
              "      <td>Renato Ratti</td>\n",
              "      <td>Nebbiolo</td>\n",
              "    </tr>\n",
              "    <tr>\n",
              "      <th>3</th>\n",
              "      <td>France</td>\n",
              "      <td>Domaine l'Ancienne Cure 2010 L'Abbaye White (B...</td>\n",
              "      <td>It's impressive what a small addition of Sauvi...</td>\n",
              "      <td>L'Abbaye</td>\n",
              "      <td>87</td>\n",
              "      <td>22.0</td>\n",
              "      <td>Southwest France</td>\n",
              "      <td>Bergerac Sec</td>\n",
              "      <td>Unknown</td>\n",
              "      <td>Domaine l'Ancienne Cure</td>\n",
              "      <td>Bordeaux-style White Blend</td>\n",
              "    </tr>\n",
              "    <tr>\n",
              "      <th>4</th>\n",
              "      <td>France</td>\n",
              "      <td>Château du Cèdre 2012 Le Cèdre Vintage Malbec ...</td>\n",
              "      <td>This ripe, sweet wine is rich and full of drie...</td>\n",
              "      <td>Le Cèdre Vintage</td>\n",
              "      <td>88</td>\n",
              "      <td>33.0</td>\n",
              "      <td>France Other</td>\n",
              "      <td>Vin de Liqueur</td>\n",
              "      <td>Unknown</td>\n",
              "      <td>Château du Cèdre</td>\n",
              "      <td>Malbec</td>\n",
              "    </tr>\n",
              "    <tr>\n",
              "      <th>...</th>\n",
              "      <td>...</td>\n",
              "      <td>...</td>\n",
              "      <td>...</td>\n",
              "      <td>...</td>\n",
              "      <td>...</td>\n",
              "      <td>...</td>\n",
              "      <td>...</td>\n",
              "      <td>...</td>\n",
              "      <td>...</td>\n",
              "      <td>...</td>\n",
              "      <td>...</td>\n",
              "    </tr>\n",
              "    <tr>\n",
              "      <th>82652</th>\n",
              "      <td>Spain</td>\n",
              "      <td>Montecillo 2007 Crianza  (Rioja)</td>\n",
              "      <td>Hot earth, baked cherry and mild vanilla aroma...</td>\n",
              "      <td>Crianza</td>\n",
              "      <td>84</td>\n",
              "      <td>12.0</td>\n",
              "      <td>Northern Spain</td>\n",
              "      <td>Rioja</td>\n",
              "      <td>Unknown</td>\n",
              "      <td>Montecillo</td>\n",
              "      <td>Tempranillo</td>\n",
              "    </tr>\n",
              "    <tr>\n",
              "      <th>82653</th>\n",
              "      <td>US</td>\n",
              "      <td>Vivác Winery 2008 Single Vineyard Cabernet Sau...</td>\n",
              "      <td>Pungent, high-pitched notes of turmeric and dr...</td>\n",
              "      <td>Single Vineyard</td>\n",
              "      <td>85</td>\n",
              "      <td>21.0</td>\n",
              "      <td>New Mexico</td>\n",
              "      <td>New Mexico</td>\n",
              "      <td>Unknown</td>\n",
              "      <td>Vivác Winery</td>\n",
              "      <td>Cabernet Sauvignon</td>\n",
              "    </tr>\n",
              "    <tr>\n",
              "      <th>82654</th>\n",
              "      <td>France</td>\n",
              "      <td>Domaine de la Madone 2014 Nouveau  (Beaujolais...</td>\n",
              "      <td>This is a wine that's not just lively and frui...</td>\n",
              "      <td>Nouveau</td>\n",
              "      <td>87</td>\n",
              "      <td>14.0</td>\n",
              "      <td>Beaujolais</td>\n",
              "      <td>Beaujolais-Villages</td>\n",
              "      <td>Unknown</td>\n",
              "      <td>Domaine de la Madone</td>\n",
              "      <td>Gamay</td>\n",
              "    </tr>\n",
              "    <tr>\n",
              "      <th>82655</th>\n",
              "      <td>France</td>\n",
              "      <td>Château Beaumont 2011  Haut-Médoc</td>\n",
              "      <td>An impressive wine, it already shows signs of ...</td>\n",
              "      <td>Unknown</td>\n",
              "      <td>91</td>\n",
              "      <td>20.0</td>\n",
              "      <td>Bordeaux</td>\n",
              "      <td>Haut-Médoc</td>\n",
              "      <td>Unknown</td>\n",
              "      <td>Château Beaumont</td>\n",
              "      <td>Bordeaux-style Red Blend</td>\n",
              "    </tr>\n",
              "    <tr>\n",
              "      <th>82656</th>\n",
              "      <td>US</td>\n",
              "      <td>Round Pond 2010 Estate Cabernet Sauvignon (Rut...</td>\n",
              "      <td>A big, rich, vital Cabernet with immediate att...</td>\n",
              "      <td>Estate</td>\n",
              "      <td>92</td>\n",
              "      <td>50.0</td>\n",
              "      <td>California</td>\n",
              "      <td>Rutherford</td>\n",
              "      <td>Napa</td>\n",
              "      <td>Round Pond</td>\n",
              "      <td>Cabernet Sauvignon</td>\n",
              "    </tr>\n",
              "  </tbody>\n",
              "</table>\n",
              "<p>82657 rows × 11 columns</p>\n",
              "</div>"
            ],
            "text/plain": [
              "         country  ...                     variety\n",
              "0      Australia  ...                  Chardonnay\n",
              "1             US  ...                   Red Blend\n",
              "2          Italy  ...                    Nebbiolo\n",
              "3         France  ...  Bordeaux-style White Blend\n",
              "4         France  ...                      Malbec\n",
              "...          ...  ...                         ...\n",
              "82652      Spain  ...                 Tempranillo\n",
              "82653         US  ...          Cabernet Sauvignon\n",
              "82654     France  ...                       Gamay\n",
              "82655     France  ...    Bordeaux-style Red Blend\n",
              "82656         US  ...          Cabernet Sauvignon\n",
              "\n",
              "[82657 rows x 11 columns]"
            ]
          },
          "metadata": {
            "tags": []
          },
          "execution_count": 162
        }
      ]
    },
    {
      "cell_type": "code",
      "metadata": {
        "id": "7RtGA0rye5fA",
        "colab_type": "code",
        "colab": {}
      },
      "source": [
        ""
      ],
      "execution_count": 0,
      "outputs": []
    },
    {
      "cell_type": "code",
      "metadata": {
        "id": "iYbyUrnoe5S3",
        "colab_type": "code",
        "colab": {}
      },
      "source": [
        ""
      ],
      "execution_count": 0,
      "outputs": []
    },
    {
      "cell_type": "markdown",
      "metadata": {
        "id": "shJLmQRNmHMv",
        "colab_type": "text"
      },
      "source": [
        "# Count Vectorizer + TF-IDF Transformer --> TF-IDF Vectorizer"
      ]
    },
    {
      "cell_type": "code",
      "metadata": {
        "id": "FQw9zKHRaLbb",
        "colab_type": "code",
        "colab": {}
      },
      "source": [
        "tfid = TfidfVectorizer(stop_words='english')"
      ],
      "execution_count": 0,
      "outputs": []
    },
    {
      "cell_type": "code",
      "metadata": {
        "id": "F8FRdtfVaLbh",
        "colab_type": "code",
        "colab": {}
      },
      "source": [
        "X_train_vect = tfid.fit_transform(X)"
      ],
      "execution_count": 0,
      "outputs": []
    },
    {
      "cell_type": "code",
      "metadata": {
        "id": "68MrU0zVaLbm",
        "colab_type": "code",
        "outputId": "acc57e13-21e8-4bfb-b7c9-6f9e5b4cf34e",
        "colab": {
          "base_uri": "https://localhost:8080/",
          "height": 34
        }
      },
      "source": [
        "print(X_train_vect.shape)"
      ],
      "execution_count": 165,
      "outputs": [
        {
          "output_type": "stream",
          "text": [
            "(82657, 25716)\n"
          ],
          "name": "stdout"
        }
      ]
    },
    {
      "cell_type": "code",
      "metadata": {
        "id": "iuZa6xrEaLbp",
        "colab_type": "code",
        "outputId": "136ecb66-f0ce-44cb-84c0-8ea6081b0cd5",
        "colab": {
          "base_uri": "https://localhost:8080/",
          "height": 948
        }
      },
      "source": [
        "data_copy.groupby('variety').count()"
      ],
      "execution_count": 166,
      "outputs": [
        {
          "output_type": "execute_result",
          "data": {
            "text/html": [
              "<div>\n",
              "<style scoped>\n",
              "    .dataframe tbody tr th:only-of-type {\n",
              "        vertical-align: middle;\n",
              "    }\n",
              "\n",
              "    .dataframe tbody tr th {\n",
              "        vertical-align: top;\n",
              "    }\n",
              "\n",
              "    .dataframe thead th {\n",
              "        text-align: right;\n",
              "    }\n",
              "</style>\n",
              "<table border=\"1\" class=\"dataframe\">\n",
              "  <thead>\n",
              "    <tr style=\"text-align: right;\">\n",
              "      <th></th>\n",
              "      <th>country</th>\n",
              "      <th>review_title</th>\n",
              "      <th>review_description</th>\n",
              "      <th>designation</th>\n",
              "      <th>points</th>\n",
              "      <th>price</th>\n",
              "      <th>province</th>\n",
              "      <th>region_1</th>\n",
              "      <th>region_2</th>\n",
              "      <th>winery</th>\n",
              "    </tr>\n",
              "    <tr>\n",
              "      <th>variety</th>\n",
              "      <th></th>\n",
              "      <th></th>\n",
              "      <th></th>\n",
              "      <th></th>\n",
              "      <th></th>\n",
              "      <th></th>\n",
              "      <th></th>\n",
              "      <th></th>\n",
              "      <th></th>\n",
              "      <th></th>\n",
              "    </tr>\n",
              "  </thead>\n",
              "  <tbody>\n",
              "    <tr>\n",
              "      <th>Bordeaux-style Red Blend</th>\n",
              "      <td>5497</td>\n",
              "      <td>5497</td>\n",
              "      <td>5497</td>\n",
              "      <td>5497</td>\n",
              "      <td>5497</td>\n",
              "      <td>5497</td>\n",
              "      <td>5497</td>\n",
              "      <td>5497</td>\n",
              "      <td>5497</td>\n",
              "      <td>5497</td>\n",
              "    </tr>\n",
              "    <tr>\n",
              "      <th>Bordeaux-style White Blend</th>\n",
              "      <td>850</td>\n",
              "      <td>850</td>\n",
              "      <td>850</td>\n",
              "      <td>850</td>\n",
              "      <td>850</td>\n",
              "      <td>850</td>\n",
              "      <td>850</td>\n",
              "      <td>850</td>\n",
              "      <td>850</td>\n",
              "      <td>850</td>\n",
              "    </tr>\n",
              "    <tr>\n",
              "      <th>Cabernet Franc</th>\n",
              "      <td>1095</td>\n",
              "      <td>1095</td>\n",
              "      <td>1095</td>\n",
              "      <td>1095</td>\n",
              "      <td>1095</td>\n",
              "      <td>1095</td>\n",
              "      <td>1095</td>\n",
              "      <td>1095</td>\n",
              "      <td>1095</td>\n",
              "      <td>1095</td>\n",
              "    </tr>\n",
              "    <tr>\n",
              "      <th>Cabernet Sauvignon</th>\n",
              "      <td>7552</td>\n",
              "      <td>7552</td>\n",
              "      <td>7552</td>\n",
              "      <td>7552</td>\n",
              "      <td>7552</td>\n",
              "      <td>7552</td>\n",
              "      <td>7552</td>\n",
              "      <td>7552</td>\n",
              "      <td>7552</td>\n",
              "      <td>7552</td>\n",
              "    </tr>\n",
              "    <tr>\n",
              "      <th>Champagne Blend</th>\n",
              "      <td>1133</td>\n",
              "      <td>1133</td>\n",
              "      <td>1133</td>\n",
              "      <td>1133</td>\n",
              "      <td>1133</td>\n",
              "      <td>1133</td>\n",
              "      <td>1133</td>\n",
              "      <td>1133</td>\n",
              "      <td>1133</td>\n",
              "      <td>1133</td>\n",
              "    </tr>\n",
              "    <tr>\n",
              "      <th>Chardonnay</th>\n",
              "      <td>9403</td>\n",
              "      <td>9403</td>\n",
              "      <td>9403</td>\n",
              "      <td>9403</td>\n",
              "      <td>9403</td>\n",
              "      <td>9403</td>\n",
              "      <td>9403</td>\n",
              "      <td>9403</td>\n",
              "      <td>9403</td>\n",
              "      <td>9403</td>\n",
              "    </tr>\n",
              "    <tr>\n",
              "      <th>Gamay</th>\n",
              "      <td>816</td>\n",
              "      <td>816</td>\n",
              "      <td>816</td>\n",
              "      <td>816</td>\n",
              "      <td>816</td>\n",
              "      <td>816</td>\n",
              "      <td>816</td>\n",
              "      <td>816</td>\n",
              "      <td>816</td>\n",
              "      <td>816</td>\n",
              "    </tr>\n",
              "    <tr>\n",
              "      <th>Gewürztraminer</th>\n",
              "      <td>840</td>\n",
              "      <td>840</td>\n",
              "      <td>840</td>\n",
              "      <td>840</td>\n",
              "      <td>840</td>\n",
              "      <td>840</td>\n",
              "      <td>840</td>\n",
              "      <td>840</td>\n",
              "      <td>840</td>\n",
              "      <td>840</td>\n",
              "    </tr>\n",
              "    <tr>\n",
              "      <th>Grüner Veltliner</th>\n",
              "      <td>1055</td>\n",
              "      <td>1055</td>\n",
              "      <td>1055</td>\n",
              "      <td>1055</td>\n",
              "      <td>1055</td>\n",
              "      <td>1055</td>\n",
              "      <td>1055</td>\n",
              "      <td>1055</td>\n",
              "      <td>1055</td>\n",
              "      <td>1055</td>\n",
              "    </tr>\n",
              "    <tr>\n",
              "      <th>Malbec</th>\n",
              "      <td>2119</td>\n",
              "      <td>2119</td>\n",
              "      <td>2119</td>\n",
              "      <td>2119</td>\n",
              "      <td>2119</td>\n",
              "      <td>2119</td>\n",
              "      <td>2119</td>\n",
              "      <td>2119</td>\n",
              "      <td>2119</td>\n",
              "      <td>2119</td>\n",
              "    </tr>\n",
              "    <tr>\n",
              "      <th>Merlot</th>\n",
              "      <td>2471</td>\n",
              "      <td>2471</td>\n",
              "      <td>2471</td>\n",
              "      <td>2471</td>\n",
              "      <td>2471</td>\n",
              "      <td>2471</td>\n",
              "      <td>2471</td>\n",
              "      <td>2471</td>\n",
              "      <td>2471</td>\n",
              "      <td>2471</td>\n",
              "    </tr>\n",
              "    <tr>\n",
              "      <th>Nebbiolo</th>\n",
              "      <td>2242</td>\n",
              "      <td>2242</td>\n",
              "      <td>2242</td>\n",
              "      <td>2242</td>\n",
              "      <td>2242</td>\n",
              "      <td>2242</td>\n",
              "      <td>2242</td>\n",
              "      <td>2242</td>\n",
              "      <td>2242</td>\n",
              "      <td>2242</td>\n",
              "    </tr>\n",
              "    <tr>\n",
              "      <th>Pinot Grigio</th>\n",
              "      <td>873</td>\n",
              "      <td>873</td>\n",
              "      <td>873</td>\n",
              "      <td>873</td>\n",
              "      <td>873</td>\n",
              "      <td>873</td>\n",
              "      <td>873</td>\n",
              "      <td>873</td>\n",
              "      <td>873</td>\n",
              "      <td>873</td>\n",
              "    </tr>\n",
              "    <tr>\n",
              "      <th>Pinot Gris</th>\n",
              "      <td>1148</td>\n",
              "      <td>1148</td>\n",
              "      <td>1148</td>\n",
              "      <td>1148</td>\n",
              "      <td>1148</td>\n",
              "      <td>1148</td>\n",
              "      <td>1148</td>\n",
              "      <td>1148</td>\n",
              "      <td>1148</td>\n",
              "      <td>1148</td>\n",
              "    </tr>\n",
              "    <tr>\n",
              "      <th>Pinot Noir</th>\n",
              "      <td>10587</td>\n",
              "      <td>10587</td>\n",
              "      <td>10587</td>\n",
              "      <td>10587</td>\n",
              "      <td>10587</td>\n",
              "      <td>10587</td>\n",
              "      <td>10587</td>\n",
              "      <td>10587</td>\n",
              "      <td>10587</td>\n",
              "      <td>10587</td>\n",
              "    </tr>\n",
              "    <tr>\n",
              "      <th>Portuguese Red</th>\n",
              "      <td>1969</td>\n",
              "      <td>1969</td>\n",
              "      <td>1969</td>\n",
              "      <td>1969</td>\n",
              "      <td>1969</td>\n",
              "      <td>1969</td>\n",
              "      <td>1969</td>\n",
              "      <td>1969</td>\n",
              "      <td>1969</td>\n",
              "      <td>1969</td>\n",
              "    </tr>\n",
              "    <tr>\n",
              "      <th>Portuguese White</th>\n",
              "      <td>896</td>\n",
              "      <td>896</td>\n",
              "      <td>896</td>\n",
              "      <td>896</td>\n",
              "      <td>896</td>\n",
              "      <td>896</td>\n",
              "      <td>896</td>\n",
              "      <td>896</td>\n",
              "      <td>896</td>\n",
              "      <td>896</td>\n",
              "    </tr>\n",
              "    <tr>\n",
              "      <th>Red Blend</th>\n",
              "      <td>7166</td>\n",
              "      <td>7166</td>\n",
              "      <td>7166</td>\n",
              "      <td>7166</td>\n",
              "      <td>7166</td>\n",
              "      <td>7166</td>\n",
              "      <td>7166</td>\n",
              "      <td>7166</td>\n",
              "      <td>7166</td>\n",
              "      <td>7166</td>\n",
              "    </tr>\n",
              "    <tr>\n",
              "      <th>Rhône-style Red Blend</th>\n",
              "      <td>1182</td>\n",
              "      <td>1182</td>\n",
              "      <td>1182</td>\n",
              "      <td>1182</td>\n",
              "      <td>1182</td>\n",
              "      <td>1182</td>\n",
              "      <td>1182</td>\n",
              "      <td>1182</td>\n",
              "      <td>1182</td>\n",
              "      <td>1182</td>\n",
              "    </tr>\n",
              "    <tr>\n",
              "      <th>Riesling</th>\n",
              "      <td>4148</td>\n",
              "      <td>4148</td>\n",
              "      <td>4148</td>\n",
              "      <td>4148</td>\n",
              "      <td>4148</td>\n",
              "      <td>4148</td>\n",
              "      <td>4148</td>\n",
              "      <td>4148</td>\n",
              "      <td>4148</td>\n",
              "      <td>4148</td>\n",
              "    </tr>\n",
              "    <tr>\n",
              "      <th>Rosé</th>\n",
              "      <td>2831</td>\n",
              "      <td>2831</td>\n",
              "      <td>2831</td>\n",
              "      <td>2831</td>\n",
              "      <td>2831</td>\n",
              "      <td>2831</td>\n",
              "      <td>2831</td>\n",
              "      <td>2831</td>\n",
              "      <td>2831</td>\n",
              "      <td>2831</td>\n",
              "    </tr>\n",
              "    <tr>\n",
              "      <th>Sangiovese</th>\n",
              "      <td>2165</td>\n",
              "      <td>2165</td>\n",
              "      <td>2165</td>\n",
              "      <td>2165</td>\n",
              "      <td>2165</td>\n",
              "      <td>2165</td>\n",
              "      <td>2165</td>\n",
              "      <td>2165</td>\n",
              "      <td>2165</td>\n",
              "      <td>2165</td>\n",
              "    </tr>\n",
              "    <tr>\n",
              "      <th>Sauvignon Blanc</th>\n",
              "      <td>4011</td>\n",
              "      <td>4011</td>\n",
              "      <td>4011</td>\n",
              "      <td>4011</td>\n",
              "      <td>4011</td>\n",
              "      <td>4011</td>\n",
              "      <td>4011</td>\n",
              "      <td>4011</td>\n",
              "      <td>4011</td>\n",
              "      <td>4011</td>\n",
              "    </tr>\n",
              "    <tr>\n",
              "      <th>Sparkling Blend</th>\n",
              "      <td>1739</td>\n",
              "      <td>1739</td>\n",
              "      <td>1739</td>\n",
              "      <td>1739</td>\n",
              "      <td>1739</td>\n",
              "      <td>1739</td>\n",
              "      <td>1739</td>\n",
              "      <td>1739</td>\n",
              "      <td>1739</td>\n",
              "      <td>1739</td>\n",
              "    </tr>\n",
              "    <tr>\n",
              "      <th>Syrah</th>\n",
              "      <td>3316</td>\n",
              "      <td>3316</td>\n",
              "      <td>3316</td>\n",
              "      <td>3316</td>\n",
              "      <td>3316</td>\n",
              "      <td>3316</td>\n",
              "      <td>3316</td>\n",
              "      <td>3316</td>\n",
              "      <td>3316</td>\n",
              "      <td>3316</td>\n",
              "    </tr>\n",
              "    <tr>\n",
              "      <th>Tempranillo</th>\n",
              "      <td>1448</td>\n",
              "      <td>1448</td>\n",
              "      <td>1448</td>\n",
              "      <td>1448</td>\n",
              "      <td>1448</td>\n",
              "      <td>1448</td>\n",
              "      <td>1448</td>\n",
              "      <td>1448</td>\n",
              "      <td>1448</td>\n",
              "      <td>1448</td>\n",
              "    </tr>\n",
              "    <tr>\n",
              "      <th>White Blend</th>\n",
              "      <td>1896</td>\n",
              "      <td>1896</td>\n",
              "      <td>1896</td>\n",
              "      <td>1896</td>\n",
              "      <td>1896</td>\n",
              "      <td>1896</td>\n",
              "      <td>1896</td>\n",
              "      <td>1896</td>\n",
              "      <td>1896</td>\n",
              "      <td>1896</td>\n",
              "    </tr>\n",
              "    <tr>\n",
              "      <th>Zinfandel</th>\n",
              "      <td>2209</td>\n",
              "      <td>2209</td>\n",
              "      <td>2209</td>\n",
              "      <td>2209</td>\n",
              "      <td>2209</td>\n",
              "      <td>2209</td>\n",
              "      <td>2209</td>\n",
              "      <td>2209</td>\n",
              "      <td>2209</td>\n",
              "      <td>2209</td>\n",
              "    </tr>\n",
              "  </tbody>\n",
              "</table>\n",
              "</div>"
            ],
            "text/plain": [
              "                            country  review_title  ...  region_2  winery\n",
              "variety                                            ...                  \n",
              "Bordeaux-style Red Blend       5497          5497  ...      5497    5497\n",
              "Bordeaux-style White Blend      850           850  ...       850     850\n",
              "Cabernet Franc                 1095          1095  ...      1095    1095\n",
              "Cabernet Sauvignon             7552          7552  ...      7552    7552\n",
              "Champagne Blend                1133          1133  ...      1133    1133\n",
              "Chardonnay                     9403          9403  ...      9403    9403\n",
              "Gamay                           816           816  ...       816     816\n",
              "Gewürztraminer                  840           840  ...       840     840\n",
              "Grüner Veltliner               1055          1055  ...      1055    1055\n",
              "Malbec                         2119          2119  ...      2119    2119\n",
              "Merlot                         2471          2471  ...      2471    2471\n",
              "Nebbiolo                       2242          2242  ...      2242    2242\n",
              "Pinot Grigio                    873           873  ...       873     873\n",
              "Pinot Gris                     1148          1148  ...      1148    1148\n",
              "Pinot Noir                    10587         10587  ...     10587   10587\n",
              "Portuguese Red                 1969          1969  ...      1969    1969\n",
              "Portuguese White                896           896  ...       896     896\n",
              "Red Blend                      7166          7166  ...      7166    7166\n",
              "Rhône-style Red Blend          1182          1182  ...      1182    1182\n",
              "Riesling                       4148          4148  ...      4148    4148\n",
              "Rosé                           2831          2831  ...      2831    2831\n",
              "Sangiovese                     2165          2165  ...      2165    2165\n",
              "Sauvignon Blanc                4011          4011  ...      4011    4011\n",
              "Sparkling Blend                1739          1739  ...      1739    1739\n",
              "Syrah                          3316          3316  ...      3316    3316\n",
              "Tempranillo                    1448          1448  ...      1448    1448\n",
              "White Blend                    1896          1896  ...      1896    1896\n",
              "Zinfandel                      2209          2209  ...      2209    2209\n",
              "\n",
              "[28 rows x 10 columns]"
            ]
          },
          "metadata": {
            "tags": []
          },
          "execution_count": 166
        }
      ]
    },
    {
      "cell_type": "markdown",
      "metadata": {
        "id": "3TAYSsFwmRl9",
        "colab_type": "text"
      },
      "source": [
        "# Applying the Models for predicting the variety of Wine."
      ]
    },
    {
      "cell_type": "markdown",
      "metadata": {
        "id": "C123rVbVmYMi",
        "colab_type": "text"
      },
      "source": [
        "## Linear SVM Model"
      ]
    },
    {
      "cell_type": "code",
      "metadata": {
        "id": "_hBZParpaLbs",
        "colab_type": "code",
        "colab": {}
      },
      "source": [
        "svm = LinearSVC()\n"
      ],
      "execution_count": 0,
      "outputs": []
    },
    {
      "cell_type": "code",
      "metadata": {
        "id": "ewB0YuuVaLbz",
        "colab_type": "code",
        "outputId": "b049f076-79fd-47a7-b984-ddbde7454c50",
        "colab": {
          "base_uri": "https://localhost:8080/",
          "height": 85
        }
      },
      "source": [
        "svm.fit(X_train_vect,Y)"
      ],
      "execution_count": 168,
      "outputs": [
        {
          "output_type": "execute_result",
          "data": {
            "text/plain": [
              "LinearSVC(C=1.0, class_weight=None, dual=True, fit_intercept=True,\n",
              "          intercept_scaling=1, loss='squared_hinge', max_iter=1000,\n",
              "          multi_class='ovr', penalty='l2', random_state=None, tol=0.0001,\n",
              "          verbose=0)"
            ]
          },
          "metadata": {
            "tags": []
          },
          "execution_count": 168
        }
      ]
    },
    {
      "cell_type": "code",
      "metadata": {
        "id": "PNlV0SL-aLb2",
        "colab_type": "code",
        "colab": {}
      },
      "source": [
        "Y_pred_train = svm.predict(X_train_vect)"
      ],
      "execution_count": 0,
      "outputs": []
    },
    {
      "cell_type": "code",
      "metadata": {
        "id": "cy3TEMIaeEg-",
        "colab_type": "code",
        "outputId": "4fa3e8db-25da-4271-9fc3-6c671a86f3b7",
        "colab": {
          "base_uri": "https://localhost:8080/",
          "height": 612
        }
      },
      "source": [
        "print(classification_report(Y,Y_pred_train))"
      ],
      "execution_count": 170,
      "outputs": [
        {
          "output_type": "stream",
          "text": [
            "                            precision    recall  f1-score   support\n",
            "\n",
            "  Bordeaux-style Red Blend       0.85      0.91      0.88      5497\n",
            "Bordeaux-style White Blend       0.91      0.74      0.82       850\n",
            "            Cabernet Franc       0.93      0.70      0.80      1095\n",
            "        Cabernet Sauvignon       0.83      0.90      0.86      7552\n",
            "           Champagne Blend       0.92      0.85      0.88      1133\n",
            "                Chardonnay       0.89      0.96      0.92      9403\n",
            "                     Gamay       0.94      0.85      0.89       816\n",
            "            Gewürztraminer       0.95      0.94      0.95       840\n",
            "          Grüner Veltliner       0.95      0.95      0.95      1055\n",
            "                    Malbec       0.87      0.81      0.84      2119\n",
            "                    Merlot       0.90      0.71      0.79      2471\n",
            "                  Nebbiolo       0.88      0.93      0.90      2242\n",
            "              Pinot Grigio       0.96      0.87      0.91       873\n",
            "                Pinot Gris       0.95      0.83      0.89      1148\n",
            "                Pinot Noir       0.89      0.93      0.91     10587\n",
            "            Portuguese Red       0.86      0.86      0.86      1969\n",
            "          Portuguese White       0.91      0.78      0.84       896\n",
            "                 Red Blend       0.89      0.83      0.86      7166\n",
            "     Rhône-style Red Blend       0.94      0.89      0.91      1182\n",
            "                  Riesling       0.96      0.96      0.96      4148\n",
            "                      Rosé       0.89      0.94      0.91      2831\n",
            "                Sangiovese       0.85      0.79      0.82      2165\n",
            "           Sauvignon Blanc       0.91      0.91      0.91      4011\n",
            "           Sparkling Blend       0.92      0.92      0.92      1739\n",
            "                     Syrah       0.89      0.84      0.87      3316\n",
            "               Tempranillo       0.85      0.83      0.84      1448\n",
            "               White Blend       0.96      0.88      0.91      1896\n",
            "                 Zinfandel       0.91      0.90      0.90      2209\n",
            "\n",
            "                  accuracy                           0.89     82657\n",
            "                 macro avg       0.91      0.87      0.88     82657\n",
            "              weighted avg       0.89      0.89      0.89     82657\n",
            "\n"
          ],
          "name": "stdout"
        }
      ]
    },
    {
      "cell_type": "markdown",
      "metadata": {
        "id": "nFJfjXUkmbsD",
        "colab_type": "text"
      },
      "source": [
        "## Naive-Bayes"
      ]
    },
    {
      "cell_type": "code",
      "metadata": {
        "id": "QncHEHVfeFSl",
        "colab_type": "code",
        "colab": {}
      },
      "source": [
        "mnb = MultinomialNB()\n",
        "mnb.fit(X_train_vect,Y)\n",
        "Y_pred = mnb.predict(X_train_vect)"
      ],
      "execution_count": 0,
      "outputs": []
    },
    {
      "cell_type": "code",
      "metadata": {
        "id": "98e-2yI5esG-",
        "colab_type": "code",
        "outputId": "b002b107-3ba0-4475-8a39-1e999f641c8a",
        "colab": {
          "base_uri": "https://localhost:8080/",
          "height": 666
        }
      },
      "source": [
        "print(classification_report(Y,Y_pred))"
      ],
      "execution_count": 172,
      "outputs": [
        {
          "output_type": "stream",
          "text": [
            "/usr/local/lib/python3.6/dist-packages/sklearn/metrics/_classification.py:1272: UndefinedMetricWarning: Precision and F-score are ill-defined and being set to 0.0 in labels with no predicted samples. Use `zero_division` parameter to control this behavior.\n",
            "  _warn_prf(average, modifier, msg_start, len(result))\n"
          ],
          "name": "stderr"
        },
        {
          "output_type": "stream",
          "text": [
            "                            precision    recall  f1-score   support\n",
            "\n",
            "  Bordeaux-style Red Blend       0.55      0.66      0.60      5497\n",
            "Bordeaux-style White Blend       0.00      0.00      0.00       850\n",
            "            Cabernet Franc       0.00      0.00      0.00      1095\n",
            "        Cabernet Sauvignon       0.47      0.76      0.58      7552\n",
            "           Champagne Blend       0.94      0.01      0.03      1133\n",
            "                Chardonnay       0.44      0.97      0.60      9403\n",
            "                     Gamay       0.00      0.00      0.00       816\n",
            "            Gewürztraminer       0.00      0.00      0.00       840\n",
            "          Grüner Veltliner       0.94      0.05      0.09      1055\n",
            "                    Malbec       0.94      0.01      0.01      2119\n",
            "                    Merlot       1.00      0.00      0.00      2471\n",
            "                  Nebbiolo       0.89      0.35      0.50      2242\n",
            "              Pinot Grigio       1.00      0.00      0.01       873\n",
            "                Pinot Gris       0.00      0.00      0.00      1148\n",
            "                Pinot Noir       0.46      0.92      0.62     10587\n",
            "            Portuguese Red       0.96      0.24      0.39      1969\n",
            "          Portuguese White       0.98      0.06      0.12       896\n",
            "                 Red Blend       0.44      0.79      0.56      7166\n",
            "     Rhône-style Red Blend       1.00      0.00      0.01      1182\n",
            "                  Riesling       0.77      0.66      0.71      4148\n",
            "                      Rosé       0.85      0.30      0.45      2831\n",
            "                Sangiovese       1.00      0.00      0.01      2165\n",
            "           Sauvignon Blanc       0.85      0.39      0.54      4011\n",
            "           Sparkling Blend       0.97      0.09      0.17      1739\n",
            "                     Syrah       0.98      0.08      0.15      3316\n",
            "               Tempranillo       1.00      0.01      0.01      1448\n",
            "               White Blend       0.98      0.19      0.31      1896\n",
            "                 Zinfandel       0.99      0.09      0.17      2209\n",
            "\n",
            "                  accuracy                           0.50     82657\n",
            "                 macro avg       0.69      0.24      0.24     82657\n",
            "              weighted avg       0.65      0.50      0.41     82657\n",
            "\n"
          ],
          "name": "stdout"
        }
      ]
    },
    {
      "cell_type": "markdown",
      "metadata": {
        "id": "ewIErHWXmg8t",
        "colab_type": "text"
      },
      "source": [
        "## Stochastic Gradient Descent Classifier"
      ]
    },
    {
      "cell_type": "code",
      "metadata": {
        "id": "sS7UNS18exSH",
        "colab_type": "code",
        "colab": {}
      },
      "source": [
        "lm = SGDClassifier()\n",
        "lm.fit(X_train_vect,Y)\n",
        "Y_pred = lm.predict(X_train_vect)"
      ],
      "execution_count": 0,
      "outputs": []
    },
    {
      "cell_type": "code",
      "metadata": {
        "id": "gtOOJz_Tfyzm",
        "colab_type": "code",
        "outputId": "6409ae10-d995-4a7c-e9ad-3e805b986260",
        "colab": {
          "base_uri": "https://localhost:8080/",
          "height": 612
        }
      },
      "source": [
        "print(classification_report(Y,Y_pred))"
      ],
      "execution_count": 174,
      "outputs": [
        {
          "output_type": "stream",
          "text": [
            "                            precision    recall  f1-score   support\n",
            "\n",
            "  Bordeaux-style Red Blend       0.67      0.83      0.74      5497\n",
            "Bordeaux-style White Blend       0.74      0.32      0.45       850\n",
            "            Cabernet Franc       0.64      0.37      0.47      1095\n",
            "        Cabernet Sauvignon       0.70      0.76      0.73      7552\n",
            "           Champagne Blend       0.78      0.54      0.64      1133\n",
            "                Chardonnay       0.71      0.93      0.81      9403\n",
            "                     Gamay       0.82      0.61      0.70       816\n",
            "            Gewürztraminer       0.83      0.70      0.76       840\n",
            "          Grüner Veltliner       0.82      0.78      0.80      1055\n",
            "                    Malbec       0.68      0.63      0.66      2119\n",
            "                    Merlot       0.77      0.46      0.57      2471\n",
            "                  Nebbiolo       0.70      0.90      0.79      2242\n",
            "              Pinot Grigio       0.82      0.56      0.67       873\n",
            "                Pinot Gris       0.82      0.44      0.57      1148\n",
            "                Pinot Noir       0.73      0.87      0.79     10587\n",
            "            Portuguese Red       0.78      0.62      0.69      1969\n",
            "          Portuguese White       0.84      0.40      0.54       896\n",
            "                 Red Blend       0.74      0.68      0.71      7166\n",
            "     Rhône-style Red Blend       0.79      0.66      0.72      1182\n",
            "                  Riesling       0.85      0.88      0.86      4148\n",
            "                      Rosé       0.74      0.79      0.76      2831\n",
            "                Sangiovese       0.75      0.46      0.57      2165\n",
            "           Sauvignon Blanc       0.75      0.74      0.75      4011\n",
            "           Sparkling Blend       0.77      0.72      0.74      1739\n",
            "                     Syrah       0.74      0.66      0.70      3316\n",
            "               Tempranillo       0.72      0.59      0.65      1448\n",
            "               White Blend       0.86      0.55      0.67      1896\n",
            "                 Zinfandel       0.82      0.68      0.74      2209\n",
            "\n",
            "                  accuracy                           0.74     82657\n",
            "                 macro avg       0.76      0.65      0.69     82657\n",
            "              weighted avg       0.74      0.74      0.73     82657\n",
            "\n"
          ],
          "name": "stdout"
        }
      ]
    },
    {
      "cell_type": "markdown",
      "metadata": {
        "id": "PSS3e0ggmp7k",
        "colab_type": "text"
      },
      "source": [
        "## Logistic Regression"
      ]
    },
    {
      "cell_type": "code",
      "metadata": {
        "id": "_O_8B6I7f0e_",
        "colab_type": "code",
        "colab": {}
      },
      "source": [
        "lr = LogisticRegression(solver='saga')\n",
        "lr.fit(X_train_vect,Y)\n",
        "Y_pred = lr.predict(X_train_vect)"
      ],
      "execution_count": 0,
      "outputs": []
    },
    {
      "cell_type": "code",
      "metadata": {
        "id": "vivH9yKMf8nC",
        "colab_type": "code",
        "outputId": "41051c9b-c4ef-422e-a83f-03b5c8a6ced3",
        "colab": {
          "base_uri": "https://localhost:8080/",
          "height": 612
        }
      },
      "source": [
        "print(classification_report(Y,Y_pred))"
      ],
      "execution_count": 176,
      "outputs": [
        {
          "output_type": "stream",
          "text": [
            "                            precision    recall  f1-score   support\n",
            "\n",
            "  Bordeaux-style Red Blend       0.76      0.83      0.79      5497\n",
            "Bordeaux-style White Blend       0.83      0.48      0.61       850\n",
            "            Cabernet Franc       0.88      0.35      0.50      1095\n",
            "        Cabernet Sauvignon       0.68      0.84      0.75      7552\n",
            "           Champagne Blend       0.85      0.64      0.73      1133\n",
            "                Chardonnay       0.76      0.94      0.84      9403\n",
            "                     Gamay       0.87      0.61      0.71       816\n",
            "            Gewürztraminer       0.88      0.70      0.78       840\n",
            "          Grüner Veltliner       0.87      0.78      0.83      1055\n",
            "                    Malbec       0.75      0.61      0.67      2119\n",
            "                    Merlot       0.82      0.47      0.59      2471\n",
            "                  Nebbiolo       0.85      0.86      0.85      2242\n",
            "              Pinot Grigio       0.90      0.57      0.70       873\n",
            "                Pinot Gris       0.86      0.52      0.65      1148\n",
            "                Pinot Noir       0.75      0.90      0.82     10587\n",
            "            Portuguese Red       0.79      0.74      0.76      1969\n",
            "          Portuguese White       0.80      0.56      0.66       896\n",
            "                 Red Blend       0.78      0.74      0.76      7166\n",
            "     Rhône-style Red Blend       0.86      0.64      0.74      1182\n",
            "                  Riesling       0.86      0.90      0.88      4148\n",
            "                      Rosé       0.80      0.84      0.82      2831\n",
            "                Sangiovese       0.79      0.63      0.70      2165\n",
            "           Sauvignon Blanc       0.79      0.80      0.80      4011\n",
            "           Sparkling Blend       0.84      0.75      0.79      1739\n",
            "                     Syrah       0.78      0.70      0.74      3316\n",
            "               Tempranillo       0.72      0.59      0.64      1448\n",
            "               White Blend       0.87      0.69      0.77      1896\n",
            "                 Zinfandel       0.83      0.72      0.77      2209\n",
            "\n",
            "                  accuracy                           0.78     82657\n",
            "                 macro avg       0.82      0.69      0.74     82657\n",
            "              weighted avg       0.78      0.78      0.77     82657\n",
            "\n"
          ],
          "name": "stdout"
        }
      ]
    },
    {
      "cell_type": "code",
      "metadata": {
        "id": "6kMc1VungRtX",
        "colab_type": "code",
        "colab": {}
      },
      "source": [
        ""
      ],
      "execution_count": 0,
      "outputs": []
    },
    {
      "cell_type": "markdown",
      "metadata": {
        "id": "sbuqyYSPm25f",
        "colab_type": "text"
      },
      "source": [
        "# Results"
      ]
    },
    {
      "cell_type": "code",
      "metadata": {
        "id": "XBA_iyvum4TZ",
        "colab_type": "code",
        "colab": {
          "base_uri": "https://localhost:8080/",
          "height": 102
        },
        "outputId": "5a70d930-a7cd-4345-842e-c8716b58ebe6"
      },
      "source": [
        "print('Accuracies Obtained for Training:')\n",
        "print(f'Support Vector Machine:',89,'%')\n",
        "print('Naive-Bayes:',50,'%')\n",
        "print('Stochastic Gradient Descent Classifier' ,74,'%')\n",
        "print('Logistic Regression',68,'%')"
      ],
      "execution_count": 182,
      "outputs": [
        {
          "output_type": "stream",
          "text": [
            "Accuracies Obtained for Training:\n",
            "Support Vector Machine: 89 %\n",
            "Naive-Bayes: 50 %\n",
            "Stochastic Gradient Descent Classifier 74 %\n",
            "Logistic Regression 68 %\n"
          ],
          "name": "stdout"
        }
      ]
    },
    {
      "cell_type": "markdown",
      "metadata": {
        "id": "M3M_4OsmuRAh",
        "colab_type": "text"
      },
      "source": [
        "# Testing Data"
      ]
    },
    {
      "cell_type": "code",
      "metadata": {
        "id": "e4pVluGCuS4O",
        "colab_type": "code",
        "colab": {}
      },
      "source": [
        "data_test = pd.read_csv('test.csv')"
      ],
      "execution_count": 0,
      "outputs": []
    },
    {
      "cell_type": "code",
      "metadata": {
        "id": "-0iCBbu468ll",
        "colab_type": "code",
        "colab": {
          "base_uri": "https://localhost:8080/",
          "height": 306
        },
        "outputId": "c4ceacf6-4f52-4646-b886-ef90b672b1ab"
      },
      "source": [
        "data_test.head()"
      ],
      "execution_count": 184,
      "outputs": [
        {
          "output_type": "execute_result",
          "data": {
            "text/html": [
              "<div>\n",
              "<style scoped>\n",
              "    .dataframe tbody tr th:only-of-type {\n",
              "        vertical-align: middle;\n",
              "    }\n",
              "\n",
              "    .dataframe tbody tr th {\n",
              "        vertical-align: top;\n",
              "    }\n",
              "\n",
              "    .dataframe thead th {\n",
              "        text-align: right;\n",
              "    }\n",
              "</style>\n",
              "<table border=\"1\" class=\"dataframe\">\n",
              "  <thead>\n",
              "    <tr style=\"text-align: right;\">\n",
              "      <th></th>\n",
              "      <th>user_name</th>\n",
              "      <th>country</th>\n",
              "      <th>review_title</th>\n",
              "      <th>review_description</th>\n",
              "      <th>designation</th>\n",
              "      <th>points</th>\n",
              "      <th>price</th>\n",
              "      <th>province</th>\n",
              "      <th>region_1</th>\n",
              "      <th>region_2</th>\n",
              "      <th>winery</th>\n",
              "    </tr>\n",
              "  </thead>\n",
              "  <tbody>\n",
              "    <tr>\n",
              "      <th>0</th>\n",
              "      <td>@paulgwine</td>\n",
              "      <td>US</td>\n",
              "      <td>Boedecker Cellars 2011 Athena Pinot Noir (Will...</td>\n",
              "      <td>Nicely differentiated from the companion Stewa...</td>\n",
              "      <td>Athena</td>\n",
              "      <td>88</td>\n",
              "      <td>35.0</td>\n",
              "      <td>Oregon</td>\n",
              "      <td>Willamette Valley</td>\n",
              "      <td>Willamette Valley</td>\n",
              "      <td>Boedecker Cellars</td>\n",
              "    </tr>\n",
              "    <tr>\n",
              "      <th>1</th>\n",
              "      <td>@wineschach</td>\n",
              "      <td>Argentina</td>\n",
              "      <td>Mendoza Vineyards 2012 Gran Reserva by Richard...</td>\n",
              "      <td>Charred, smoky, herbal aromas of blackberry tr...</td>\n",
              "      <td>Gran Reserva by Richard Bonvin</td>\n",
              "      <td>90</td>\n",
              "      <td>60.0</td>\n",
              "      <td>Mendoza Province</td>\n",
              "      <td>Mendoza</td>\n",
              "      <td>NaN</td>\n",
              "      <td>Mendoza Vineyards</td>\n",
              "    </tr>\n",
              "    <tr>\n",
              "      <th>2</th>\n",
              "      <td>@vboone</td>\n",
              "      <td>US</td>\n",
              "      <td>Prime 2013 Chardonnay (Coombsville)</td>\n",
              "      <td>Slightly sour and funky in earth, this is a re...</td>\n",
              "      <td>NaN</td>\n",
              "      <td>87</td>\n",
              "      <td>38.0</td>\n",
              "      <td>California</td>\n",
              "      <td>Coombsville</td>\n",
              "      <td>Napa</td>\n",
              "      <td>Prime</td>\n",
              "    </tr>\n",
              "    <tr>\n",
              "      <th>3</th>\n",
              "      <td>@wineschach</td>\n",
              "      <td>Argentina</td>\n",
              "      <td>Bodega Cuarto Dominio 2012 Chento Vineyard Sel...</td>\n",
              "      <td>This concentrated, midnight-black Malbec deliv...</td>\n",
              "      <td>Chento Vineyard Selection</td>\n",
              "      <td>91</td>\n",
              "      <td>20.0</td>\n",
              "      <td>Mendoza Province</td>\n",
              "      <td>Mendoza</td>\n",
              "      <td>NaN</td>\n",
              "      <td>Bodega Cuarto Dominio</td>\n",
              "    </tr>\n",
              "    <tr>\n",
              "      <th>4</th>\n",
              "      <td>@kerinokeefe</td>\n",
              "      <td>Italy</td>\n",
              "      <td>SassodiSole 2012  Brunello di Montalcino</td>\n",
              "      <td>Earthy aromas suggesting grilled porcini, leat...</td>\n",
              "      <td>NaN</td>\n",
              "      <td>90</td>\n",
              "      <td>49.0</td>\n",
              "      <td>Tuscany</td>\n",
              "      <td>Brunello di Montalcino</td>\n",
              "      <td>NaN</td>\n",
              "      <td>SassodiSole</td>\n",
              "    </tr>\n",
              "  </tbody>\n",
              "</table>\n",
              "</div>"
            ],
            "text/plain": [
              "      user_name    country  ...           region_2                 winery\n",
              "0   @paulgwine          US  ...  Willamette Valley      Boedecker Cellars\n",
              "1   @wineschach  Argentina  ...                NaN      Mendoza Vineyards\n",
              "2       @vboone         US  ...               Napa                  Prime\n",
              "3   @wineschach  Argentina  ...                NaN  Bodega Cuarto Dominio\n",
              "4  @kerinokeefe      Italy  ...                NaN            SassodiSole\n",
              "\n",
              "[5 rows x 11 columns]"
            ]
          },
          "metadata": {
            "tags": []
          },
          "execution_count": 184
        }
      ]
    },
    {
      "cell_type": "code",
      "metadata": {
        "id": "EQtdUHSg6-XL",
        "colab_type": "code",
        "colab": {
          "base_uri": "https://localhost:8080/",
          "height": 221
        },
        "outputId": "b3851e14-d4c3-4fcb-b965-84f4334f2fee"
      },
      "source": [
        "data_test.isnull().sum()"
      ],
      "execution_count": 185,
      "outputs": [
        {
          "output_type": "execute_result",
          "data": {
            "text/plain": [
              "user_name              4738\n",
              "country                   4\n",
              "review_title              0\n",
              "review_description        0\n",
              "designation            5989\n",
              "points                    0\n",
              "price                  1394\n",
              "province                  4\n",
              "region_1               3314\n",
              "region_2              11751\n",
              "winery                    0\n",
              "dtype: int64"
            ]
          },
          "metadata": {
            "tags": []
          },
          "execution_count": 185
        }
      ]
    },
    {
      "cell_type": "code",
      "metadata": {
        "id": "Vqf9t-Pe7D_o",
        "colab_type": "code",
        "colab": {}
      },
      "source": [
        "data_test['price'].fillna(data_copy['price'].mean(),inplace=True)\n",
        "data_test['country'].fillna('Unknown',inplace=True)\n",
        "data_test.drop(['user_name'],axis=1,inplace=True)\n",
        "data_test['designation'].fillna('Unknown',inplace=True)\n",
        "data_test['province'].fillna('Unknown',inplace=True)\n",
        "data_test['region_1'].fillna('Unknown',inplace=True)\n",
        "data_test['region_2'].fillna('Unknown',inplace=True)"
      ],
      "execution_count": 0,
      "outputs": []
    },
    {
      "cell_type": "code",
      "metadata": {
        "id": "LufB0Igj7mAY",
        "colab_type": "code",
        "colab": {
          "base_uri": "https://localhost:8080/",
          "height": 204
        },
        "outputId": "b848000d-44dd-4124-a0fb-6893da183fb7"
      },
      "source": [
        "data_test.isnull().sum()"
      ],
      "execution_count": 187,
      "outputs": [
        {
          "output_type": "execute_result",
          "data": {
            "text/plain": [
              "country               0\n",
              "review_title          0\n",
              "review_description    0\n",
              "designation           0\n",
              "points                0\n",
              "price                 0\n",
              "province              0\n",
              "region_1              0\n",
              "region_2              0\n",
              "winery                0\n",
              "dtype: int64"
            ]
          },
          "metadata": {
            "tags": []
          },
          "execution_count": 187
        }
      ]
    },
    {
      "cell_type": "code",
      "metadata": {
        "id": "TUXdqxrs7nyE",
        "colab_type": "code",
        "colab": {}
      },
      "source": [
        "X_test = data_test['review_description']"
      ],
      "execution_count": 0,
      "outputs": []
    },
    {
      "cell_type": "code",
      "metadata": {
        "id": "Cz0PA6jD7utn",
        "colab_type": "code",
        "colab": {}
      },
      "source": [
        "X_test_vect = tfid.transform(X_test)"
      ],
      "execution_count": 0,
      "outputs": []
    },
    {
      "cell_type": "code",
      "metadata": {
        "id": "b821cq2C73d8",
        "colab_type": "code",
        "colab": {}
      },
      "source": [
        "Y_pred_test = svm.predict(X_test_vect)"
      ],
      "execution_count": 0,
      "outputs": []
    },
    {
      "cell_type": "code",
      "metadata": {
        "id": "esdZ7M_H8TNZ",
        "colab_type": "code",
        "colab": {}
      },
      "source": [
        "data_test['Predicted Variety'] = 0"
      ],
      "execution_count": 0,
      "outputs": []
    },
    {
      "cell_type": "code",
      "metadata": {
        "id": "WghEQtKy79ZP",
        "colab_type": "code",
        "colab": {
          "base_uri": "https://localhost:8080/",
          "height": 187
        },
        "outputId": "f5636e45-0b05-4a8c-9156-0926b0fd693d"
      },
      "source": [
        "for i,j in zip(Y_pred_test,range(len(data_test))):\n",
        "  data_test['Predicted Variety'][j] = i"
      ],
      "execution_count": 195,
      "outputs": [
        {
          "output_type": "stream",
          "text": [
            "/usr/local/lib/python3.6/dist-packages/ipykernel_launcher.py:2: SettingWithCopyWarning: \n",
            "A value is trying to be set on a copy of a slice from a DataFrame\n",
            "\n",
            "See the caveats in the documentation: https://pandas.pydata.org/pandas-docs/stable/user_guide/indexing.html#returning-a-view-versus-a-copy\n",
            "  \n",
            "/usr/local/lib/python3.6/dist-packages/pandas/core/indexing.py:671: SettingWithCopyWarning: \n",
            "A value is trying to be set on a copy of a slice from a DataFrame\n",
            "\n",
            "See the caveats in the documentation: https://pandas.pydata.org/pandas-docs/stable/user_guide/indexing.html#returning-a-view-versus-a-copy\n",
            "  self._setitem_with_indexer(indexer, value)\n"
          ],
          "name": "stderr"
        }
      ]
    },
    {
      "cell_type": "code",
      "metadata": {
        "id": "vvStdBbu8KXw",
        "colab_type": "code",
        "colab": {
          "base_uri": "https://localhost:8080/",
          "height": 323
        },
        "outputId": "7c47ada9-a315-4299-d7e8-26306a32fa31"
      },
      "source": [
        "data_test.head()"
      ],
      "execution_count": 196,
      "outputs": [
        {
          "output_type": "execute_result",
          "data": {
            "text/html": [
              "<div>\n",
              "<style scoped>\n",
              "    .dataframe tbody tr th:only-of-type {\n",
              "        vertical-align: middle;\n",
              "    }\n",
              "\n",
              "    .dataframe tbody tr th {\n",
              "        vertical-align: top;\n",
              "    }\n",
              "\n",
              "    .dataframe thead th {\n",
              "        text-align: right;\n",
              "    }\n",
              "</style>\n",
              "<table border=\"1\" class=\"dataframe\">\n",
              "  <thead>\n",
              "    <tr style=\"text-align: right;\">\n",
              "      <th></th>\n",
              "      <th>country</th>\n",
              "      <th>review_title</th>\n",
              "      <th>review_description</th>\n",
              "      <th>designation</th>\n",
              "      <th>points</th>\n",
              "      <th>price</th>\n",
              "      <th>province</th>\n",
              "      <th>region_1</th>\n",
              "      <th>region_2</th>\n",
              "      <th>winery</th>\n",
              "      <th>Predicted Variety</th>\n",
              "    </tr>\n",
              "  </thead>\n",
              "  <tbody>\n",
              "    <tr>\n",
              "      <th>0</th>\n",
              "      <td>US</td>\n",
              "      <td>Boedecker Cellars 2011 Athena Pinot Noir (Will...</td>\n",
              "      <td>Nicely differentiated from the companion Stewa...</td>\n",
              "      <td>Athena</td>\n",
              "      <td>88</td>\n",
              "      <td>35.0</td>\n",
              "      <td>Oregon</td>\n",
              "      <td>Willamette Valley</td>\n",
              "      <td>Willamette Valley</td>\n",
              "      <td>Boedecker Cellars</td>\n",
              "      <td>Pinot Noir</td>\n",
              "    </tr>\n",
              "    <tr>\n",
              "      <th>1</th>\n",
              "      <td>Argentina</td>\n",
              "      <td>Mendoza Vineyards 2012 Gran Reserva by Richard...</td>\n",
              "      <td>Charred, smoky, herbal aromas of blackberry tr...</td>\n",
              "      <td>Gran Reserva by Richard Bonvin</td>\n",
              "      <td>90</td>\n",
              "      <td>60.0</td>\n",
              "      <td>Mendoza Province</td>\n",
              "      <td>Mendoza</td>\n",
              "      <td>Unknown</td>\n",
              "      <td>Mendoza Vineyards</td>\n",
              "      <td>Malbec</td>\n",
              "    </tr>\n",
              "    <tr>\n",
              "      <th>2</th>\n",
              "      <td>US</td>\n",
              "      <td>Prime 2013 Chardonnay (Coombsville)</td>\n",
              "      <td>Slightly sour and funky in earth, this is a re...</td>\n",
              "      <td>Unknown</td>\n",
              "      <td>87</td>\n",
              "      <td>38.0</td>\n",
              "      <td>California</td>\n",
              "      <td>Coombsville</td>\n",
              "      <td>Napa</td>\n",
              "      <td>Prime</td>\n",
              "      <td>Chardonnay</td>\n",
              "    </tr>\n",
              "    <tr>\n",
              "      <th>3</th>\n",
              "      <td>Argentina</td>\n",
              "      <td>Bodega Cuarto Dominio 2012 Chento Vineyard Sel...</td>\n",
              "      <td>This concentrated, midnight-black Malbec deliv...</td>\n",
              "      <td>Chento Vineyard Selection</td>\n",
              "      <td>91</td>\n",
              "      <td>20.0</td>\n",
              "      <td>Mendoza Province</td>\n",
              "      <td>Mendoza</td>\n",
              "      <td>Unknown</td>\n",
              "      <td>Bodega Cuarto Dominio</td>\n",
              "      <td>Malbec</td>\n",
              "    </tr>\n",
              "    <tr>\n",
              "      <th>4</th>\n",
              "      <td>Italy</td>\n",
              "      <td>SassodiSole 2012  Brunello di Montalcino</td>\n",
              "      <td>Earthy aromas suggesting grilled porcini, leat...</td>\n",
              "      <td>Unknown</td>\n",
              "      <td>90</td>\n",
              "      <td>49.0</td>\n",
              "      <td>Tuscany</td>\n",
              "      <td>Brunello di Montalcino</td>\n",
              "      <td>Unknown</td>\n",
              "      <td>SassodiSole</td>\n",
              "      <td>Sangiovese</td>\n",
              "    </tr>\n",
              "  </tbody>\n",
              "</table>\n",
              "</div>"
            ],
            "text/plain": [
              "     country  ... Predicted Variety\n",
              "0         US  ...        Pinot Noir\n",
              "1  Argentina  ...            Malbec\n",
              "2         US  ...        Chardonnay\n",
              "3  Argentina  ...            Malbec\n",
              "4      Italy  ...        Sangiovese\n",
              "\n",
              "[5 rows x 11 columns]"
            ]
          },
          "metadata": {
            "tags": []
          },
          "execution_count": 196
        }
      ]
    },
    {
      "cell_type": "code",
      "metadata": {
        "id": "kfIfoXJn8OpH",
        "colab_type": "code",
        "colab": {
          "base_uri": "https://localhost:8080/",
          "height": 221
        },
        "outputId": "8fb7eb11-4f33-43fa-e5b0-83205982de11"
      },
      "source": [
        "data_test.isnull().sum()"
      ],
      "execution_count": 197,
      "outputs": [
        {
          "output_type": "execute_result",
          "data": {
            "text/plain": [
              "country               0\n",
              "review_title          0\n",
              "review_description    0\n",
              "designation           0\n",
              "points                0\n",
              "price                 0\n",
              "province              0\n",
              "region_1              0\n",
              "region_2              0\n",
              "winery                0\n",
              "Predicted Variety     0\n",
              "dtype: int64"
            ]
          },
          "metadata": {
            "tags": []
          },
          "execution_count": 197
        }
      ]
    },
    {
      "cell_type": "code",
      "metadata": {
        "id": "XhMa3iRF8f7m",
        "colab_type": "code",
        "colab": {}
      },
      "source": [
        "data_test.to_csv('predicted_test_dataset.csv')"
      ],
      "execution_count": 0,
      "outputs": []
    },
    {
      "cell_type": "code",
      "metadata": {
        "id": "ekB_lm_Q9C6J",
        "colab_type": "code",
        "colab": {}
      },
      "source": [
        "data_predicted = pd.read_csv('predicted_test_dataset.csv')"
      ],
      "execution_count": 0,
      "outputs": []
    },
    {
      "cell_type": "code",
      "metadata": {
        "id": "KFhHxUqJ9KlJ",
        "colab_type": "code",
        "colab": {
          "base_uri": "https://localhost:8080/",
          "height": 323
        },
        "outputId": "8b7597ac-6181-4a51-9b0e-769251791a79"
      },
      "source": [
        "data_predicted.head()"
      ],
      "execution_count": 200,
      "outputs": [
        {
          "output_type": "execute_result",
          "data": {
            "text/html": [
              "<div>\n",
              "<style scoped>\n",
              "    .dataframe tbody tr th:only-of-type {\n",
              "        vertical-align: middle;\n",
              "    }\n",
              "\n",
              "    .dataframe tbody tr th {\n",
              "        vertical-align: top;\n",
              "    }\n",
              "\n",
              "    .dataframe thead th {\n",
              "        text-align: right;\n",
              "    }\n",
              "</style>\n",
              "<table border=\"1\" class=\"dataframe\">\n",
              "  <thead>\n",
              "    <tr style=\"text-align: right;\">\n",
              "      <th></th>\n",
              "      <th>Unnamed: 0</th>\n",
              "      <th>country</th>\n",
              "      <th>review_title</th>\n",
              "      <th>review_description</th>\n",
              "      <th>designation</th>\n",
              "      <th>points</th>\n",
              "      <th>price</th>\n",
              "      <th>province</th>\n",
              "      <th>region_1</th>\n",
              "      <th>region_2</th>\n",
              "      <th>winery</th>\n",
              "      <th>Predicted Variety</th>\n",
              "    </tr>\n",
              "  </thead>\n",
              "  <tbody>\n",
              "    <tr>\n",
              "      <th>0</th>\n",
              "      <td>0</td>\n",
              "      <td>US</td>\n",
              "      <td>Boedecker Cellars 2011 Athena Pinot Noir (Will...</td>\n",
              "      <td>Nicely differentiated from the companion Stewa...</td>\n",
              "      <td>Athena</td>\n",
              "      <td>88</td>\n",
              "      <td>35.0</td>\n",
              "      <td>Oregon</td>\n",
              "      <td>Willamette Valley</td>\n",
              "      <td>Willamette Valley</td>\n",
              "      <td>Boedecker Cellars</td>\n",
              "      <td>Pinot Noir</td>\n",
              "    </tr>\n",
              "    <tr>\n",
              "      <th>1</th>\n",
              "      <td>1</td>\n",
              "      <td>Argentina</td>\n",
              "      <td>Mendoza Vineyards 2012 Gran Reserva by Richard...</td>\n",
              "      <td>Charred, smoky, herbal aromas of blackberry tr...</td>\n",
              "      <td>Gran Reserva by Richard Bonvin</td>\n",
              "      <td>90</td>\n",
              "      <td>60.0</td>\n",
              "      <td>Mendoza Province</td>\n",
              "      <td>Mendoza</td>\n",
              "      <td>Unknown</td>\n",
              "      <td>Mendoza Vineyards</td>\n",
              "      <td>Malbec</td>\n",
              "    </tr>\n",
              "    <tr>\n",
              "      <th>2</th>\n",
              "      <td>2</td>\n",
              "      <td>US</td>\n",
              "      <td>Prime 2013 Chardonnay (Coombsville)</td>\n",
              "      <td>Slightly sour and funky in earth, this is a re...</td>\n",
              "      <td>Unknown</td>\n",
              "      <td>87</td>\n",
              "      <td>38.0</td>\n",
              "      <td>California</td>\n",
              "      <td>Coombsville</td>\n",
              "      <td>Napa</td>\n",
              "      <td>Prime</td>\n",
              "      <td>Chardonnay</td>\n",
              "    </tr>\n",
              "    <tr>\n",
              "      <th>3</th>\n",
              "      <td>3</td>\n",
              "      <td>Argentina</td>\n",
              "      <td>Bodega Cuarto Dominio 2012 Chento Vineyard Sel...</td>\n",
              "      <td>This concentrated, midnight-black Malbec deliv...</td>\n",
              "      <td>Chento Vineyard Selection</td>\n",
              "      <td>91</td>\n",
              "      <td>20.0</td>\n",
              "      <td>Mendoza Province</td>\n",
              "      <td>Mendoza</td>\n",
              "      <td>Unknown</td>\n",
              "      <td>Bodega Cuarto Dominio</td>\n",
              "      <td>Malbec</td>\n",
              "    </tr>\n",
              "    <tr>\n",
              "      <th>4</th>\n",
              "      <td>4</td>\n",
              "      <td>Italy</td>\n",
              "      <td>SassodiSole 2012  Brunello di Montalcino</td>\n",
              "      <td>Earthy aromas suggesting grilled porcini, leat...</td>\n",
              "      <td>Unknown</td>\n",
              "      <td>90</td>\n",
              "      <td>49.0</td>\n",
              "      <td>Tuscany</td>\n",
              "      <td>Brunello di Montalcino</td>\n",
              "      <td>Unknown</td>\n",
              "      <td>SassodiSole</td>\n",
              "      <td>Sangiovese</td>\n",
              "    </tr>\n",
              "  </tbody>\n",
              "</table>\n",
              "</div>"
            ],
            "text/plain": [
              "   Unnamed: 0    country  ...                 winery Predicted Variety\n",
              "0           0         US  ...      Boedecker Cellars        Pinot Noir\n",
              "1           1  Argentina  ...      Mendoza Vineyards            Malbec\n",
              "2           2         US  ...                  Prime        Chardonnay\n",
              "3           3  Argentina  ...  Bodega Cuarto Dominio            Malbec\n",
              "4           4      Italy  ...            SassodiSole        Sangiovese\n",
              "\n",
              "[5 rows x 12 columns]"
            ]
          },
          "metadata": {
            "tags": []
          },
          "execution_count": 200
        }
      ]
    },
    {
      "cell_type": "code",
      "metadata": {
        "id": "8fTuq1de9L21",
        "colab_type": "code",
        "colab": {}
      },
      "source": [
        ""
      ],
      "execution_count": 0,
      "outputs": []
    },
    {
      "cell_type": "markdown",
      "metadata": {
        "id": "egDLn4lpDUpo",
        "colab_type": "text"
      },
      "source": [
        "# Five Actionable Insights.\n",
        "\n",
        "1. The most number of wine were tasted by country U.S. That means increasing production and focusing on more on the quality can help increase profits.\n",
        "2. The average points provided by the people of England were highest.    That means wine is favoured in England.\n",
        "3. The average price is higher in Switzerland.\n",
        "4.  The producer of top 20 wines are France taking a share of 50%,then U.S.(25%),Italy(20%), Portugal(5%) . So focusing more on these will help earning more profit.\n",
        "5. The mean points obtained overall by the reviewers were 88.54 which should be improved as the lowest rating was 80 and highest 100. \n"
      ]
    },
    {
      "cell_type": "code",
      "metadata": {
        "id": "HYMikUD_DxZs",
        "colab_type": "code",
        "colab": {}
      },
      "source": [
        ""
      ],
      "execution_count": 0,
      "outputs": []
    }
  ]
}